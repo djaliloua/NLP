{
 "cells": [
  {
   "cell_type": "markdown",
   "metadata": {
    "id": "CnHoYqQS5eV1"
   },
   "source": [
    "# Intro\n",
    "In this assignement you will see a little example about\n",
    "*   How to download a dataset\n",
    "*   How to load it into dataframes\n",
    "*   How to use extract basic features from the corpus\n",
    "*   How to train a classifier on those features\n",
    "\n",
    "You are advised to look at the code and understand it.\n",
    "\n",
    "You will be then asked to perform feature extraction and classification yourself.\n",
    "\n",
    "The task that will be addressed is document classification, specifically tasks related to sentiment classification.\n"
   ]
  },
  {
   "cell_type": "markdown",
   "metadata": {
    "id": "ARCKuf1S5GKg"
   },
   "source": [
    "# Document Classification Tutorial"
   ]
  },
  {
   "cell_type": "markdown",
   "metadata": {
    "id": "F8aVUWrD3LeW"
   },
   "source": [
    "## Preliminary Steps\n",
    "These are some preliminary steps before addressing the task.\n",
    "Import some basic libraries and set a variable that will be used in multiple steps."
   ]
  },
  {
   "cell_type": "code",
   "execution_count": 1,
   "metadata": {
    "executionInfo": {
     "elapsed": 841,
     "status": "ok",
     "timestamp": 1603542345116,
     "user": {
      "displayName": "djalilou ali",
      "photoUrl": "https://lh3.googleusercontent.com/a-/AOh14GivCNwGPoIvRniGsUT0JoYiANxs0EwL4QmyZ5GFiw=s64",
      "userId": "12017855888319370142"
     },
     "user_tz": -120
    },
    "id": "of3D92OeWV8_"
   },
   "outputs": [],
   "source": [
    "# The libraries we will use are imported here, in case of runtime problems\n",
    "import os, shutil  #  file management\n",
    "import sys\n",
    "import pandas as pd  #  dataframe management\n",
    "import numpy as np  #  data manipulation"
   ]
  },
  {
   "cell_type": "code",
   "execution_count": 2,
   "metadata": {
    "executionInfo": {
     "elapsed": 1253,
     "status": "ok",
     "timestamp": 1603542347164,
     "user": {
      "displayName": "djalilou ali",
      "photoUrl": "https://lh3.googleusercontent.com/a-/AOh14GivCNwGPoIvRniGsUT0JoYiANxs0EwL4QmyZ5GFiw=s64",
      "userId": "12017855888319370142"
     },
     "user_tz": -120
    },
    "id": "AgXmCToDOAbQ"
   },
   "outputs": [],
   "source": [
    "dataset_name = \"aclImdb\""
   ]
  },
  {
   "cell_type": "markdown",
   "metadata": {
    "id": "LCjPTD4a6uTb"
   },
   "source": [
    "CHANGED: If it is necessary, clean all the data that are in the DATASETS directory and wipe out all the subdirectories.\n",
    "\n",
    "IMPORTANT: DO NOT RUN THIS SECTION UNLESS YOU NEED IT.\n"
   ]
  },
  {
   "cell_type": "code",
   "execution_count": 3,
   "metadata": {},
   "outputs": [],
   "source": [
    "#os.chdir('D:')"
   ]
  },
  {
   "cell_type": "code",
   "execution_count": null,
   "metadata": {
    "id": "iSbT57Bo6wkV"
   },
   "outputs": [],
   "source": [
    "folder = os.getcwd()\n",
    "\n",
    "print(\"Current work directory: \" + str(folder))\n",
    "\n",
    "dataset_folder = os.path.join(os.getcwd(), \"Datasets\")\n",
    "\n",
    "for filename in os.listdir(dataset_folder):\n",
    "    file_path = os.path.join(dataset_folder, filename)\n",
    "    try:\n",
    "        if os.path.isfile(file_path) or os.path.islink(file_path):\n",
    "            os.unlink(file_path)\n",
    "        elif os.path.isdir(file_path):\n",
    "            shutil.rmtree(file_path)\n",
    "    except Exception as e:\n",
    "        print('Failed to delete %s. Reason: %s' % (file_path, e))\n",
    "\n",
    "print(\"Cleaned\")"
   ]
  },
  {
   "cell_type": "markdown",
   "metadata": {
    "id": "d--rS8W95i62"
   },
   "source": [
    "## Dataset Download\n",
    "Dowload the Imdb movie reviews dataset\n"
   ]
  },
  {
   "cell_type": "code",
   "execution_count": 4,
   "metadata": {
    "colab": {
     "base_uri": "https://localhost:8080/",
     "height": 34
    },
    "executionInfo": {
     "elapsed": 33340,
     "status": "ok",
     "timestamp": 1603542383037,
     "user": {
      "displayName": "djalilou ali",
      "photoUrl": "https://lh3.googleusercontent.com/a-/AOh14GivCNwGPoIvRniGsUT0JoYiANxs0EwL4QmyZ5GFiw=s64",
      "userId": "12017855888319370142"
     },
     "user_tz": -120
    },
    "id": "aLNJIfZg4_d9",
    "outputId": "4597399b-bc33-40c8-e56c-465ab7e3fbeb"
   },
   "outputs": [
    {
     "name": "stdout",
     "output_type": "stream",
     "text": [
      "Successful extraction\n"
     ]
    }
   ],
   "source": [
    "import urllib.request  #  download files\n",
    "import tarfile  #  unzip files\n",
    "\n",
    "dataset_folder = os.path.join(os.getcwd(), \"Datasets\", \"Original\")\n",
    "\n",
    "if not os.path.exists(dataset_folder):\n",
    "    os.makedirs(dataset_folder)\n",
    "\n",
    "url = 'http://ai.stanford.edu/~amaas/data/sentiment/aclImdb_v1.tar.gz'\n",
    "\n",
    "dataset_path = os.path.join(dataset_folder, \"Movies.tar.gz\")\n",
    "\n",
    "if not os.path.exists(dataset_path):\n",
    "    urllib.request.urlretrieve(url, dataset_path)\n",
    "    print(\"Successful download\")\n",
    "\n",
    "tar = tarfile.open(dataset_path)\n",
    "tar.extractall(dataset_folder)\n",
    "tar.close()\n",
    "print(\"Successful extraction\")"
   ]
  },
  {
   "cell_type": "markdown",
   "metadata": {
    "id": "I3f93BOW3ziB"
   },
   "source": [
    "Look at the files you have downloaded to understand the structure of the dataset."
   ]
  },
  {
   "cell_type": "markdown",
   "metadata": {
    "id": "-FexYdgu87Q3"
   },
   "source": [
    "## Create the dataframe\n",
    "Now the dataset is loaded into a dataframe to be more accessible.\n",
    "During the creation some data will be printed as an example."
   ]
  },
  {
   "cell_type": "code",
   "execution_count": 5,
   "metadata": {
    "colab": {
     "base_uri": "https://localhost:8080/",
     "height": 171
    },
    "executionInfo": {
     "elapsed": 3659,
     "status": "ok",
     "timestamp": 1603542386717,
     "user": {
      "displayName": "djalilou ali",
      "photoUrl": "https://lh3.googleusercontent.com/a-/AOh14GivCNwGPoIvRniGsUT0JoYiANxs0EwL4QmyZ5GFiw=s64",
      "userId": "12017855888319370142"
     },
     "user_tz": -120
    },
    "id": "4u8aN92x9Aw1",
    "outputId": "d070c1cd-2575-46e9-92d0-57e64ad095c2",
    "scrolled": true
   },
   "outputs": [
    {
     "name": "stdout",
     "output_type": "stream",
     "text": [
      "D:\\Datasets\\Original\\aclImdb\\train\\pos\\0_9.txt\n",
      "0_9.txt\n",
      "0\n",
      "Bromwell High is a cartoon comedy. It ran at the same time as some other programs about school life, such as \"Teachers\". My 35 years in the teaching profession lead me to believe that Bromwell High's satire is much closer to reality than is \"Teachers\". The scramble to survive financially, the insightful students who can see right through their pathetic teachers' pomp, the pettiness of the whole situation, all remind me of the schools I knew and their students. When I saw the episode in which a student repeatedly tried to burn down the school, I immediately recalled ......... at .......... High. A classic line: INSPECTOR: I'm here to sack one of your teachers. STUDENT: Welcome to Bromwell High. I expect that many adults of my age think that Bromwell High is far fetched. What a pity that it isn't!\n",
      "9\n",
      "pos\n",
      "train\n",
      "{'file_id': '0', 'score': 9, 'sentiment': 1, 'split': 'train', 'text': 'Bromwell High is a cartoon comedy. It ran at the same time as some other programs about school life, such as \"Teachers\". My 35 years in the teaching profession lead me to believe that Bromwell High\\'s satire is much closer to reality than is \"Teachers\". The scramble to survive financially, the insightful students who can see right through their pathetic teachers\\' pomp, the pettiness of the whole situation, all remind me of the schools I knew and their students. When I saw the episode in which a student repeatedly tried to burn down the school, I immediately recalled ......... at .......... High. A classic line: INSPECTOR: I\\'m here to sack one of your teachers. STUDENT: Welcome to Bromwell High. I expect that many adults of my age think that Bromwell High is far fetched. What a pity that it isn\\'t!'}\n"
     ]
    }
   ],
   "source": [
    "dataset_name = \"aclImdb\"\n",
    "\n",
    "debug = True\n",
    "\n",
    "dataframe_rows = []\n",
    "\n",
    "for split in ['train', 'test']:\n",
    "    for sentiment in ['pos', 'neg']:\n",
    "        folder = os.path.join(os.getcwd(), \"Datasets\", \"Original\", dataset_name, split, sentiment)\n",
    "        for filename in os.listdir(folder):\n",
    "            file_path = os.path.join(folder, filename)\n",
    "            try:\n",
    "                if os.path.isfile(file_path):\n",
    "                    # open the file\n",
    "                    with open(file_path, mode='r', encoding='utf-8') as text_file:\n",
    "                        # read it and extract informations\n",
    "                        text = text_file.read()\n",
    "                        score = filename.split(\"_\")[1].split(\".\")[0]\n",
    "                        file_id = filename.split(\"_\")[0]\n",
    "\n",
    "                        num_sentiment = -1\n",
    "\n",
    "                        if sentiment == \"pos\" : num_sentiment = 1\n",
    "                        elif sentiment == \"neg\" : num_sentiment = 0\n",
    "\n",
    "                        # create single dataframe row\n",
    "                        dataframe_row = {\n",
    "                            \"file_id\": file_id,\n",
    "                            \"score\": int(score),\n",
    "                            \"sentiment\": num_sentiment,\n",
    "                            \"split\": split,\n",
    "                            \"text\": text\n",
    "                        }\n",
    "\n",
    "                        # print detailed info for the first file\n",
    "                        if debug:\n",
    "                            print(file_path)\n",
    "                            print(filename)\n",
    "                            print(file_id)\n",
    "                            print(text)\n",
    "                            print(score)\n",
    "                            print(sentiment)\n",
    "                            print(split)\n",
    "                            print(dataframe_row)\n",
    "                            debug = False\n",
    "                        dataframe_rows.append(dataframe_row)\n",
    "\n",
    "            except Exception as e:\n",
    "                print('Failed to process %s. Reason: %s' % (file_path, e))\n",
    "                sys.exit(0)\n",
    "\n",
    "folder = os.path.join(os.getcwd(), \"Datasets\", \"Dataframes\", dataset_name)\n",
    "if not os.path.exists(folder):\n",
    "    os.makedirs(folder)\n",
    "\n",
    "# transform the list of rows in a proper dataframe\n",
    "dataframe = pd.DataFrame(dataframe_rows)\n",
    "dataframe = dataframe[[\"file_id\",\n",
    "                       \"score\",\n",
    "                       \"sentiment\",\n",
    "                       \"split\",\n",
    "                       \"text\"]]\n",
    "dataframe_path = os.path.join(folder, dataset_name + \".pkl\")\n",
    "dataframe.to_pickle(dataframe_path)"
   ]
  },
  {
   "cell_type": "markdown",
   "metadata": {
    "id": "fH_BAvFKF76g"
   },
   "source": [
    "Little analysis of the dataframe"
   ]
  },
  {
   "cell_type": "code",
   "execution_count": 6,
   "metadata": {
    "colab": {
     "base_uri": "https://localhost:8080/",
     "height": 958
    },
    "executionInfo": {
     "elapsed": 3648,
     "status": "ok",
     "timestamp": 1603542386718,
     "user": {
      "displayName": "djalilou ali",
      "photoUrl": "https://lh3.googleusercontent.com/a-/AOh14GivCNwGPoIvRniGsUT0JoYiANxs0EwL4QmyZ5GFiw=s64",
      "userId": "12017855888319370142"
     },
     "user_tz": -120
    },
    "id": "GCs9IEO5F-Vt",
    "outputId": "0b47178d-7191-4791-8063-9252af20a1d8"
   },
   "outputs": [
    {
     "name": "stdout",
     "output_type": "stream",
     "text": [
      "Dataframe structure:\n",
      "      file_id  score  sentiment  split  \\\n",
      "0           0      9          1  train   \n",
      "1       10000      8          1  train   \n",
      "2       10001     10          1  train   \n",
      "3       10002      7          1  train   \n",
      "4       10003      8          1  train   \n",
      "...       ...    ...        ...    ...   \n",
      "49995    9998      1          0   test   \n",
      "49996    9999      1          0   test   \n",
      "49997     999      3          0   test   \n",
      "49998      99      3          0   test   \n",
      "49999       9      4          0   test   \n",
      "\n",
      "                                                    text  \n",
      "0      Bromwell High is a cartoon comedy. It ran at t...  \n",
      "1      Homelessness (or Houselessness as George Carli...  \n",
      "2      Brilliant over-acting by Lesley Ann Warren. Be...  \n",
      "3      This is easily the most underrated film inn th...  \n",
      "4      This is not the typical Mel Brooks film. It wa...  \n",
      "...                                                  ...  \n",
      "49995  I occasionally let my kids watch this garbage ...  \n",
      "49996  When all we have anymore is pretty much realit...  \n",
      "49997  The basic genre is a thriller intercut with an...  \n",
      "49998  Four things intrigued me as to this film - fir...  \n",
      "49999  David Bryce's comments nearby are exceptionall...  \n",
      "\n",
      "[50000 rows x 5 columns]\n",
      "\n",
      "Total rows 50000\n",
      "\n",
      "Distribution of scores: \n",
      "1     10122\n",
      "10     9731\n",
      "8      5859\n",
      "4      5331\n",
      "3      4961\n",
      "7      4803\n",
      "9      4607\n",
      "2      4586\n",
      "Name: score, dtype: int64\n",
      "\n",
      "Distribution of sentiment: \n",
      "1    25000\n",
      "0    25000\n",
      "Name: sentiment, dtype: int64\n",
      "\n",
      "Distribution of scores in train: \n",
      "1     5100\n",
      "10    4732\n",
      "8     3009\n",
      "4     2696\n",
      "7     2496\n",
      "3     2420\n",
      "2     2284\n",
      "9     2263\n",
      "Name: score, dtype: int64\n",
      "\n",
      "Distribution of scores in test: \n",
      "1     5022\n",
      "10    4999\n",
      "8     2850\n",
      "4     2635\n",
      "3     2541\n",
      "9     2344\n",
      "7     2307\n",
      "2     2302\n",
      "Name: score, dtype: int64\n",
      "\n"
     ]
    }
   ],
   "source": [
    "dataframe_path = os.path.join(os.getcwd(), \"Datasets\", \"Dataframes\", dataset_name, dataset_name + \".pkl\")\n",
    "df = pd.read_pickle(dataframe_path)\n",
    "\n",
    "print(\"Dataframe structure:\")\n",
    "print(df)\n",
    "print()\n",
    "\n",
    "\n",
    "print(\"Total rows %d\" % (len(df)))\n",
    "print()\n",
    "\n",
    "column = 'score'\n",
    "print(\"Distribution of scores: \")\n",
    "print(df[column].value_counts())\n",
    "print()\n",
    "\n",
    "column = 'sentiment'\n",
    "print(\"Distribution of sentiment: \")\n",
    "print(df[column].value_counts())\n",
    "print()\n",
    "\n",
    "\n",
    "for split in [\"train\", \"test\"]:\n",
    "    df1 = df.loc[df['split'] == split]\n",
    "    column = 'score'\n",
    "    print(\"Distribution of scores in %s: \" % (split))\n",
    "    print(df1[column].value_counts())\n",
    "    print()"
   ]
  },
  {
   "cell_type": "markdown",
   "metadata": {
    "id": "mzoExTTDxqwz"
   },
   "source": [
    "A little game: let's create a word cloud for the two sentiments and see if there is something interesting."
   ]
  },
  {
   "cell_type": "code",
   "execution_count": null,
   "metadata": {
    "colab": {
     "base_uri": "https://localhost:8080/",
     "height": 822
    },
    "executionInfo": {
     "elapsed": 60598,
     "status": "ok",
     "timestamp": 1603341555681,
     "user": {
      "displayName": "djalilou ali",
      "photoUrl": "https://lh3.googleusercontent.com/a-/AOh14GivCNwGPoIvRniGsUT0JoYiANxs0EwL4QmyZ5GFiw=s64",
      "userId": "12017855888319370142"
     },
     "user_tz": -120
    },
    "id": "m6FNPW5lx4R5",
    "outputId": "00602b34-099c-445b-d148-596382ccf4c7"
   },
   "outputs": [],
   "source": [
    "from wordcloud import WordCloud, STOPWORDS\n",
    "import matplotlib.pyplot as plt\n",
    "\n",
    "dataframe_path = os.path.join(os.getcwd(), \"Datasets\", \"Dataframes\", dataset_name, dataset_name + \".pkl\")\n",
    "df = pd.read_pickle(dataframe_path)\n",
    "\n",
    "positive_corpus = df.loc[df['sentiment'] == 1]\n",
    "positive_corpus = positive_corpus[\"text\"].tolist()\n",
    "\n",
    "negative_corpus = df.loc[df['sentiment'] == 0]\n",
    "negative_corpus = negative_corpus[\"text\"].tolist()\n",
    "\n",
    "print(\"Negative:\")\n",
    "wordcloud1 = WordCloud(width = 3000, height = 2000, collocations=False, stopwords = STOPWORDS).generate(\" \".join(negative_corpus))\n",
    "plt.figure(figsize=(10, 10))\n",
    "plt.imshow(wordcloud1) \n",
    "plt.axis(\"off\");\n",
    "plt.show()\n",
    "\n",
    "print(\"Positive:\")\n",
    "wordcloud2 = WordCloud(width = 3000, height = 2000, collocations=False, stopwords = STOPWORDS).generate(\" \".join(positive_corpus))\n",
    "plt.figure(figsize=(10, 10))\n",
    "plt.imshow(wordcloud2) \n",
    "plt.axis(\"off\");\n",
    "plt.show()"
   ]
  },
  {
   "cell_type": "markdown",
   "metadata": {
    "id": "vFhnc_g4y00b"
   },
   "source": [
    "Is there something weird about these words? You can repeat the process multiple times to test your observations.\n",
    "Is there something that will influence our approach? Think about it..."
   ]
  },
  {
   "cell_type": "markdown",
   "metadata": {
    "id": "APy7Yb83H5Is"
   },
   "source": [
    "## Features extraction\n",
    "Let's tackle the Sentiment Analysis task.\n",
    "\n",
    "The scikit-learn library offers *TfidfVectorizer*, a class that performs both tokenization and the creation of the BoW representation (as tf-idf) of a corpus.\n",
    "\n",
    "The class has plenty of options: it can be used also to count n-grams, excluding stop-words, and cutting off most and/or less frequent terms."
   ]
  },
  {
   "cell_type": "code",
   "execution_count": 7,
   "metadata": {
    "colab": {
     "base_uri": "https://localhost:8080/",
     "height": 101
    },
    "executionInfo": {
     "elapsed": 9762,
     "status": "ok",
     "timestamp": 1603542392842,
     "user": {
      "displayName": "djalilou ali",
      "photoUrl": "https://lh3.googleusercontent.com/a-/AOh14GivCNwGPoIvRniGsUT0JoYiANxs0EwL4QmyZ5GFiw=s64",
      "userId": "12017855888319370142"
     },
     "user_tz": -120
    },
    "id": "ZsuUwTjqH72Q",
    "outputId": "e19ad1dc-67bc-449a-aac7-80d7529c7447"
   },
   "outputs": [
    {
     "name": "stdout",
     "output_type": "stream",
     "text": [
      "Processing corpus\n",
      "\n",
      "Shape of the matrix: (data points, features)\n",
      "(25000, 74849)\n",
      "\n"
     ]
    }
   ],
   "source": [
    "from sklearn.feature_extraction.text import  TfidfVectorizer\n",
    "\n",
    "dataframe_path = os.path.join(os.getcwd(), \"Datasets\", \"Dataframes\", dataset_name, dataset_name + \".pkl\")\n",
    "df = pd.read_pickle(dataframe_path)\n",
    "\n",
    "# select only the training sentences\n",
    "df_train = df.loc[df['split'] == \"train\"]\n",
    "\n",
    "train_corpus = df_train['text'].tolist()\n",
    "\n",
    "print(\"Processing corpus\\n\")\n",
    "vectorizer =  TfidfVectorizer()\n",
    "# tokenization and creation of Bag of Words representation\n",
    "X_train = vectorizer.fit_transform(train_corpus)\n",
    "\n",
    "print(\"Shape of the matrix: (data points, features)\")\n",
    "print(X_train.shape)\n",
    "print()\n",
    "\n",
    "# targets for the training set\n",
    "Y_train = np.array(df_train['sentiment'].tolist())"
   ]
  },
  {
   "cell_type": "markdown",
   "metadata": {
    "id": "PajnwZslUg-p"
   },
   "source": [
    "Fitting on a corpus, the vectorizer creates an internal vocabulary that will be used to create the BoW representation.\n",
    "The vocabulary is a dictionary that associates to each word a corresponding column in the feature matrix.\n",
    "\n",
    "Do not try to print the whole vocabulary: it is quite large ;)"
   ]
  },
  {
   "cell_type": "code",
   "execution_count": 8,
   "metadata": {
    "colab": {
     "base_uri": "https://localhost:8080/",
     "height": 34
    },
    "executionInfo": {
     "elapsed": 9750,
     "status": "ok",
     "timestamp": 1603542392844,
     "user": {
      "displayName": "djalilou ali",
      "photoUrl": "https://lh3.googleusercontent.com/a-/AOh14GivCNwGPoIvRniGsUT0JoYiANxs0EwL4QmyZ5GFiw=s64",
      "userId": "12017855888319370142"
     },
     "user_tz": -120
    },
    "id": "7fMTG5wqUfhL",
    "outputId": "9dcb95bf-d261-4761-c755-eb706ef8e60b"
   },
   "outputs": [
    {
     "name": "stdout",
     "output_type": "stream",
     "text": [
      "74849\n"
     ]
    }
   ],
   "source": [
    "print(len(vectorizer.vocabulary_))"
   ]
  },
  {
   "cell_type": "markdown",
   "metadata": {
    "id": "g2KIWtBzMYef"
   },
   "source": [
    "Since the vocabulary will be quite big, by default X will be a *sparse* matrix (see scipy.sparse for more info)."
   ]
  },
  {
   "cell_type": "code",
   "execution_count": 9,
   "metadata": {
    "colab": {
     "base_uri": "https://localhost:8080/",
     "height": 874
    },
    "executionInfo": {
     "elapsed": 62515,
     "status": "ok",
     "timestamp": 1603341560174,
     "user": {
      "displayName": "djalilou ali",
      "photoUrl": "https://lh3.googleusercontent.com/a-/AOh14GivCNwGPoIvRniGsUT0JoYiANxs0EwL4QmyZ5GFiw=s64",
      "userId": "12017855888319370142"
     },
     "user_tz": -120
    },
    "id": "CfcEWJaeNLWc",
    "outputId": "18eca299-b122-494c-ec9c-451e0a341ee0"
   },
   "outputs": [
    {
     "name": "stdout",
     "output_type": "stream",
     "text": [
      "  (0, 34644)\t0.047394461266444525\n",
      "  (0, 50155)\t0.08287028364871561\n",
      "  (0, 72703)\t0.027918294921852303\n",
      "  (0, 24328)\t0.09485779784272477\n",
      "  (0, 23785)\t0.04764802174958937\n",
      "  (0, 66526)\t0.03666458494606156\n",
      "  (0, 2155)\t0.06166887776124007\n",
      "  (0, 1919)\t0.07732854366244009\n",
      "  (0, 40829)\t0.03770129734051713\n",
      "  (0, 23124)\t0.0603023374239695\n",
      "  (0, 72544)\t0.08414563947065769\n",
      "  (0, 74349)\t0.040182759614367104\n",
      "  (0, 46932)\t0.02277311550313214\n",
      "  (0, 57021)\t0.10696882423195393\n",
      "  (0, 30670)\t0.03986001273006236\n",
      "  (0, 33861)\t0.09306596282618841\n",
      "  (0, 38871)\t0.0542382151436312\n",
      "  (0, 12676)\t0.05485981085044486\n",
      "  (0, 53963)\t0.11883065609615275\n",
      "  (0, 32729)\t0.0733604551139556\n",
      "  (0, 19854)\t0.044811917101658036\n",
      "  (0, 9765)\t0.09135539837480973\n",
      "  (0, 68145)\t0.06634799299330539\n",
      "  (0, 54950)\t0.09230806850172538\n",
      "  (0, 63767)\t0.15413528842651872\n",
      "  :\t:\n",
      "  (24999, 32517)\t0.08554199856842014\n",
      "  (24999, 49147)\t0.05530496122707191\n",
      "  (24999, 3167)\t0.03971086119358096\n",
      "  (24999, 29999)\t0.0441796905553389\n",
      "  (24999, 47142)\t0.08710785271064471\n",
      "  (24999, 23785)\t0.07589860205324366\n",
      "  (24999, 66526)\t0.05840306984607303\n",
      "  (24999, 74349)\t0.12801435062299446\n",
      "  (24999, 46932)\t0.03627532828473988\n",
      "  (24999, 38871)\t0.08639613054449959\n",
      "  (24999, 3258)\t0.09568206721329459\n",
      "  (24999, 2662)\t0.03811164167374234\n",
      "  (24999, 72911)\t0.07512399275269524\n",
      "  (24999, 46680)\t0.12171348105069536\n",
      "  (24999, 66322)\t0.02792275449052043\n",
      "  (24999, 67125)\t0.04917939754910111\n",
      "  (24999, 33004)\t0.02604989124245051\n",
      "  (24999, 44639)\t0.04914958435549718\n",
      "  (24999, 61617)\t0.04516325384833295\n",
      "  (24999, 4465)\t0.06657503112414465\n",
      "  (24999, 66925)\t0.09492128420844781\n",
      "  (24999, 66339)\t0.06997819109295658\n",
      "  (24999, 4753)\t0.07672812763695568\n",
      "  (24999, 34683)\t0.10317660803336665\n",
      "  (24999, 34585)\t0.07694163473628493\n"
     ]
    }
   ],
   "source": [
    "print(X_train)"
   ]
  },
  {
   "cell_type": "markdown",
   "metadata": {
    "id": "kr38ssKTNMeQ"
   },
   "source": [
    "All the scipy tools are compatible with sparse matrices, but if you somehow need the traditional representation it is possible to convert it with the following command. Keep in mind that if the vocabulary and/or the dataset are large, the resulting array will be quite large, possibly occupying all the RAM.\n",
    "\n",
    "\n",
    "```\n",
    "X.toarray()\n",
    "```\n",
    "\n"
   ]
  },
  {
   "cell_type": "markdown",
   "metadata": {
    "id": "evLd40iCWZ8q"
   },
   "source": [
    "It is then possible to parse the test split likewise. Remember to use the transform function and not the fit_transform when working on the test set."
   ]
  },
  {
   "cell_type": "code",
   "execution_count": 10,
   "metadata": {
    "executionInfo": {
     "elapsed": 14784,
     "status": "ok",
     "timestamp": 1603542397895,
     "user": {
      "displayName": "djalilou ali",
      "photoUrl": "https://lh3.googleusercontent.com/a-/AOh14GivCNwGPoIvRniGsUT0JoYiANxs0EwL4QmyZ5GFiw=s64",
      "userId": "12017855888319370142"
     },
     "user_tz": -120
    },
    "id": "jNz23Ep2Y3iB"
   },
   "outputs": [],
   "source": [
    "# select only the test sentences\n",
    "df_test = df.loc[df['split'] == \"test\"]\n",
    "test_corpus = df_test['text'].tolist()\n",
    "X_test = vectorizer.transform(test_corpus)\n",
    "Y_test = np.array(df_test['sentiment'].tolist())"
   ]
  },
  {
   "cell_type": "markdown",
   "metadata": {
    "id": "Xe5NPH5Gb5FI"
   },
   "source": [
    "## Training and Testing\n",
    "It is now possible to choose one of the many models available in the sci-kit learn library, train it and test it."
   ]
  },
  {
   "cell_type": "code",
   "execution_count": 11,
   "metadata": {
    "executionInfo": {
     "elapsed": 2075,
     "status": "ok",
     "timestamp": 1603532405121,
     "user": {
      "displayName": "djalilou ali",
      "photoUrl": "https://lh3.googleusercontent.com/a-/AOh14GivCNwGPoIvRniGsUT0JoYiANxs0EwL4QmyZ5GFiw=s64",
      "userId": "12017855888319370142"
     },
     "user_tz": -120
    },
    "id": "lTnd0-X2b3ke"
   },
   "outputs": [],
   "source": [
    "# training and testing\n",
    "from sklearn.svm import LinearSVC\n",
    "\n",
    "classifier = LinearSVC()\n",
    "\n",
    "classifier.fit(X_train, Y_train)\n",
    "\n",
    "Y_pred_train = classifier.predict(X_train)\n",
    "Y_pred_test = classifier.predict(X_test)"
   ]
  },
  {
   "cell_type": "code",
   "execution_count": 12,
   "metadata": {
    "colab": {
     "base_uri": "https://localhost:8080/",
     "height": 353
    },
    "executionInfo": {
     "elapsed": 859,
     "status": "ok",
     "timestamp": 1603532408525,
     "user": {
      "displayName": "djalilou ali",
      "photoUrl": "https://lh3.googleusercontent.com/a-/AOh14GivCNwGPoIvRniGsUT0JoYiANxs0EwL4QmyZ5GFiw=s64",
      "userId": "12017855888319370142"
     },
     "user_tz": -120
    },
    "id": "vG4oUWA0k3yS",
    "outputId": "24b57d14-30bc-4967-afe4-716609a0a4e4"
   },
   "outputs": [
    {
     "name": "stdout",
     "output_type": "stream",
     "text": [
      "Train\n",
      "              precision    recall  f1-score   support\n",
      "\n",
      "         neg       0.99      0.99      0.99     12500\n",
      "         pos       0.99      0.99      0.99     12500\n",
      "\n",
      "    accuracy                           0.99     25000\n",
      "   macro avg       0.99      0.99      0.99     25000\n",
      "weighted avg       0.99      0.99      0.99     25000\n",
      "\n",
      "Test\n",
      "              precision    recall  f1-score   support\n",
      "\n",
      "         neg       0.87      0.89      0.88     12500\n",
      "         pos       0.89      0.87      0.88     12500\n",
      "\n",
      "    accuracy                           0.88     25000\n",
      "   macro avg       0.88      0.88      0.88     25000\n",
      "weighted avg       0.88      0.88      0.88     25000\n",
      "\n"
     ]
    }
   ],
   "source": [
    "# print results\n",
    "from sklearn.metrics import classification_report\n",
    "\n",
    "report_train = classification_report(Y_train, Y_pred_train, target_names=[\"neg\", \"pos\"])\n",
    "report_test = classification_report(Y_test, Y_pred_test, target_names=[\"neg\", \"pos\"])\n",
    "print(\"Train\")\n",
    "print(report_train)\n",
    "print(\"Test\")\n",
    "print(report_test)"
   ]
  },
  {
   "cell_type": "code",
   "execution_count": 13,
   "metadata": {
    "colab": {
     "base_uri": "https://localhost:8080/",
     "height": 558
    },
    "executionInfo": {
     "elapsed": 1402,
     "status": "ok",
     "timestamp": 1603532413958,
     "user": {
      "displayName": "djalilou ali",
      "photoUrl": "https://lh3.googleusercontent.com/a-/AOh14GivCNwGPoIvRniGsUT0JoYiANxs0EwL4QmyZ5GFiw=s64",
      "userId": "12017855888319370142"
     },
     "user_tz": -120
    },
    "id": "OgtGYwjncFpn",
    "outputId": "8ef9b2a4-9640-4783-8752-71fe88b964af"
   },
   "outputs": [
    {
     "data": {
      "text/plain": [
       "<sklearn.metrics._plot.confusion_matrix.ConfusionMatrixDisplay at 0x1a0e6c4f1c0>"
      ]
     },
     "execution_count": 13,
     "metadata": {},
     "output_type": "execute_result"
    },
    {
     "data": {
      "image/png": "[encoded data removed]",
      "text/plain": [
       "<Figure size 432x288 with 1 Axes>"
      ]
     },
     "metadata": {
      "needs_background": "light"
     },
     "output_type": "display_data"
    },
    {
     "data": {
      "image/png": "[encoded data removed]",
      "text/plain": [
       "<Figure size 432x288 with 2 Axes>"
      ]
     },
     "metadata": {
      "needs_background": "light"
     },
     "output_type": "display_data"
    }
   ],
   "source": [
    "# more advanced tools\n",
    "# plot precision/recall curve and confusion matrix\n",
    "from sklearn.metrics import precision_recall_curve, plot_precision_recall_curve, plot_confusion_matrix\n",
    "import matplotlib.pyplot as plt\n",
    "\n",
    "disp = plot_precision_recall_curve(classifier, X_test, Y_test)\n",
    "plot_confusion_matrix(classifier, X_test, Y_test, normalize='true', cmap=plt.cm.Blues, values_format=\".2f\")"
   ]
  },
  {
   "cell_type": "markdown",
   "metadata": {
    "id": "HlY-i4Yug6Dx"
   },
   "source": [
    "# Now...do it yourself!\n",
    "\n",
    "Now, rather then sentiment classification, try to address the task of score prediction on the same dataset: based on the text of the reviews, try to predict the score assigned by the reviewer."
   ]
  },
  {
   "cell_type": "markdown",
   "metadata": {
    "id": "lMaK5y9OiTj4"
   },
   "source": [
    "## First part\n",
    "As first part, experiment with the options of the vectorizer to improve the classification using logistic regression. You are required to look at the documentation of the functions.\n",
    "You can also use or add other pre-processing step to the text if you feel like it, you are not obliged to use TfidfVectorizer.\n",
    "\n",
    "Obviously, you will need to use the variable names declared in the first block.\n",
    "\n",
    "\n",
    "Some notes:\n",
    "* In the multi-class classification, the most important measures are F1s (especially macro and micro), since it is a complex measure given that considers more aspects than the simple accuracy.\n",
    "* Between the problem as regression and the problem as multi-class classification, the priority is the problem as regression. Indeed, the classification perspective does penalize each error in the same way, while the regression perspective considers the difference between the predicted value and the real value (prediction 8 for real value 2 is way worse than prediction 3 for value 2). The classification perspective is a tool to understand the problem better and experiment. \n",
    "* There are no threshold values that you have to reach with the measurements to obtain a certain score. The score will be assigned considering the results of the class and the efforts we will see in the solution.\n",
    "* In each code section, you have to deliver a single approach, but if you have observations or interesting alternative approaches, you can mention them in the .txt file"
   ]
  },
  {
   "cell_type": "code",
   "execution_count": 14,
   "metadata": {
    "executionInfo": {
     "elapsed": 940,
     "status": "ok",
     "timestamp": 1603532420189,
     "user": {
      "displayName": "djalilou ali",
      "photoUrl": "https://lh3.googleusercontent.com/a-/AOh14GivCNwGPoIvRniGsUT0JoYiANxs0EwL4QmyZ5GFiw=s64",
      "userId": "12017855888319370142"
     },
     "user_tz": -120
    },
    "id": "xtraxB8Chf9X"
   },
   "outputs": [],
   "source": [
    "# write your code here\n",
    "X_train = X_train\n",
    "Y_train = np.array(df_train['score'].tolist())\n",
    "X_test = X_test\n",
    "Y_test = np.array(df_test['score'].tolist())"
   ]
  },
  {
   "cell_type": "markdown",
   "metadata": {
    "id": "s5_WXt_P6MFN"
   },
   "source": [
    "Now run the code below to train your classifier:"
   ]
  },
  {
   "cell_type": "code",
   "execution_count": 15,
   "metadata": {
    "executionInfo": {
     "elapsed": 59058,
     "status": "ok",
     "timestamp": 1603532520371,
     "user": {
      "displayName": "djalilou ali",
      "photoUrl": "https://lh3.googleusercontent.com/a-/AOh14GivCNwGPoIvRniGsUT0JoYiANxs0EwL4QmyZ5GFiw=s64",
      "userId": "12017855888319370142"
     },
     "user_tz": -120
    },
    "id": "BIN03hrxizjj"
   },
   "outputs": [],
   "source": [
    "####################################################################\n",
    "###################### DO NOT MODIFY THIS PART #####################\n",
    "from sklearn.linear_model import LogisticRegression\n",
    "\n",
    "classifier = LogisticRegression(max_iter=1000)\n",
    "\n",
    "classifier.fit(X_train, Y_train)\n",
    "\n",
    "Y_pred_test = classifier.predict(X_test)\n",
    "Y_pred_test_class = np.around(Y_pred_test)\n",
    "\n",
    "####################################################################"
   ]
  },
  {
   "cell_type": "markdown",
   "metadata": {
    "id": "7WgN0DZ0ofDf"
   },
   "source": [
    "Now test your results running the code below:"
   ]
  },
  {
   "cell_type": "code",
   "execution_count": 16,
   "metadata": {
    "colab": {
     "base_uri": "https://localhost:8080/",
     "height": 766
    },
    "executionInfo": {
     "elapsed": 1442,
     "status": "ok",
     "timestamp": 1603532526237,
     "user": {
      "displayName": "djalilou ali",
      "photoUrl": "https://lh3.googleusercontent.com/a-/AOh14GivCNwGPoIvRniGsUT0JoYiANxs0EwL4QmyZ5GFiw=s64",
      "userId": "12017855888319370142"
     },
     "user_tz": -120
    },
    "id": "Q_S4aZW4k08D",
    "outputId": "0ae20670-297d-40f7-cc39-9aed013117d9"
   },
   "outputs": [
    {
     "name": "stdout",
     "output_type": "stream",
     "text": [
      "R2 score 0.484457\n",
      "MAE 1.468520\n",
      "MSE 6.282360\n",
      "\n",
      "              precision    recall  f1-score   support\n",
      "\n",
      "           1       0.53      0.84      0.65      5022\n",
      "           2       0.21      0.05      0.08      2302\n",
      "           3       0.27      0.12      0.16      2541\n",
      "           4       0.32      0.34      0.33      2635\n",
      "           7       0.32      0.24      0.27      2307\n",
      "           8       0.27      0.25      0.26      2850\n",
      "           9       0.23      0.04      0.06      2344\n",
      "          10       0.48      0.77      0.59      4999\n",
      "\n",
      "    accuracy                           0.43     25000\n",
      "   macro avg       0.33      0.33      0.30     25000\n",
      "weighted avg       0.37      0.43      0.37     25000\n",
      "\n",
      "[[4201  125  142  236   33   52    6  227]\n",
      " [1415  120  202  327   45   36    8  149]\n",
      " [1030  143  301  638  115   93   12  209]\n",
      " [ 715  110  278  891  221  181   20  219]\n",
      " [ 128   24   72  291  552  566   57  617]\n",
      " [ 141   11   47  173  430  699   80 1269]\n",
      " [ 113    8   28  102  155  470   88 1380]\n",
      " [ 255   18   39   89  171  477  119 3831]]\n",
      "\n"
     ]
    },
    {
     "data": {
      "text/plain": [
       "<sklearn.metrics._plot.confusion_matrix.ConfusionMatrixDisplay at 0x1a0e7fb22b0>"
      ]
     },
     "execution_count": 16,
     "metadata": {},
     "output_type": "execute_result"
    },
    {
     "data": {
      "image/png": "[encoded data removed]",
      "text/plain": [
       "<Figure size 432x288 with 2 Axes>"
      ]
     },
     "metadata": {
      "needs_background": "light"
     },
     "output_type": "display_data"
    }
   ],
   "source": [
    "####################################################################\n",
    "###################### DO NOT MODIFY THIS PART #####################\n",
    "from sklearn.metrics import r2_score, mean_absolute_error, mean_squared_error\n",
    "from sklearn.metrics import classification_report, confusion_matrix, plot_confusion_matrix\n",
    "import matplotlib.pyplot as plt\n",
    "\n",
    "\n",
    "# task as regression\n",
    "\n",
    "print(\"R2 score %f\" % (r2_score(Y_test, Y_pred_test)))\n",
    "print(\"MAE %f\" % (mean_absolute_error(Y_test, Y_pred_test)))\n",
    "print(\"MSE %f\" % (mean_squared_error(Y_test, Y_pred_test)))\n",
    "print()\n",
    "\n",
    "# task as multiclass classification\n",
    "\n",
    "report = classification_report(Y_test.astype('int'), Y_pred_test_class.astype('int'), labels=[1,2,3,4,7,8,9,10])\n",
    "print(report)\n",
    "\n",
    "confusion_matrix = confusion_matrix(Y_test.astype('int'), Y_pred_test_class.astype('int'), labels=[1,2,3,4,7,8,9,10])\n",
    "print(confusion_matrix)\n",
    "print()\n",
    "\n",
    "# fancy confusion matrix\n",
    "plot_confusion_matrix(classifier, X_test, Y_test, normalize='true', cmap=plt.cm.Blues, values_format=\".2f\")\n",
    "\n",
    "####################################################################"
   ]
  },
  {
   "cell_type": "markdown",
   "metadata": {
    "id": "MKKVP4aPoogk"
   },
   "source": [
    "## Second part\n",
    "Now experiment both with the processing (the vectorizer) and the classifier to obtain the best result."
   ]
  },
  {
   "cell_type": "code",
   "execution_count": 17,
   "metadata": {},
   "outputs": [
    {
     "name": "stdout",
     "output_type": "stream",
     "text": [
      "Processing corpus\n",
      "\n",
      "Shape of the matrix: (data points, features)\n",
      "(25000, 75006)\n",
      "\n"
     ]
    }
   ],
   "source": [
    "from sklearn.feature_extraction.text import  TfidfVectorizer\n",
    "from nltk.stem import WordNetLemmatizer, PorterStemmer\n",
    "\n",
    "# Lemmatize the text\n",
    "def preprocess_text_lemma(df):\n",
    "    lemmatizer = WordNetLemmatizer()\n",
    "    return [word.lower() for word in [lemmatizer.lemmatize(w) for w in [txt for txt in df]]]\n",
    "\n",
    "# and Stem the text\n",
    "def preprocess_text_stem(df):\n",
    "    porter = PorterStemmer()\n",
    "    return [porter.stem(w) for w in [txt for txt in df]]\n",
    "\n",
    "\n",
    "\n",
    "dataframe_path = os.path.join(os.getcwd(), \"Datasets\", \"Dataframes\", dataset_name, dataset_name + \".pkl\")\n",
    "df = pd.read_pickle(dataframe_path)\n",
    "\n",
    "# select only the training sentences\n",
    "df_train0 = df.loc[df['split'] == \"train\"]\n",
    "df_train['text'] = preprocess_text_stem(preprocess_text_lemma(df_train0.iloc[:,4]))\n",
    "\n",
    "\n",
    "train_corpus = df_train['text'].tolist()\n",
    "\n",
    "print(\"Processing corpus\\n\")\n",
    "vectorizer =  TfidfVectorizer()\n",
    "# tokenization and creation of Bag of Words representation\n",
    "X_train = vectorizer.fit_transform(train_corpus)\n",
    "\n",
    "print(\"Shape of the matrix: (data points, features)\")\n",
    "print(X_train.shape)\n",
    "print()\n",
    "\n",
    "# targets for the training set\n",
    "Y_train = np.array(df_train['score'].tolist())"
   ]
  },
  {
   "cell_type": "code",
   "execution_count": 18,
   "metadata": {},
   "outputs": [],
   "source": [
    "from sklearn.model_selection import train_test_split\n",
    "X_train0,X_val,Y_train0,Y_val = train_test_split(X_train,Y_train, random_state=6, test_size=0.26)"
   ]
  },
  {
   "cell_type": "code",
   "execution_count": 19,
   "metadata": {},
   "outputs": [],
   "source": [
    "# select only the test sentences\n",
    "df_test0 = df.loc[df['split'] == \"test\"]\n",
    "df_test['text'] = preprocess_text_stem(preprocess_text_lemma(df_test0.iloc[:, 4]))\n",
    "test_corpus = df_test['text'].tolist()\n",
    "X_test = vectorizer.transform(test_corpus)\n",
    "Y_test = np.array(df_test['score'].tolist())"
   ]
  },
  {
   "cell_type": "code",
   "execution_count": null,
   "metadata": {},
   "outputs": [],
   "source": []
  },
  {
   "cell_type": "markdown",
   "metadata": {},
   "source": [
    "# Grid Search for optimized hyper-parameters"
   ]
  },
  {
   "cell_type": "code",
   "execution_count": 20,
   "metadata": {
    "id": "Z1P8mZp5sPBI"
   },
   "outputs": [],
   "source": [
    "from sklearn.model_selection import RandomizedSearchCV, GridSearchCV\n",
    "from sklearn.metrics import accuracy_score, confusion_matrix, classification_report\n",
    "from sklearn.svm import LinearSVC\n",
    "from sklearn.naive_bayes import MultinomialNB\n",
    "from sklearn.ensemble import RandomForestClassifier\n",
    "from sklearn.linear_model import LogisticRegression\n",
    "names = ['Linear SVM', 'Naive Bayes', 'Logistic Regrestion']\n",
    "params = [{'C':np.linspace(0.01,2,10)},\n",
    "          {'alpha':np.linspace(0.01,2,10)},\n",
    "          {'C':np.linspace(0.01,2,5)}\n",
    "         ]\n",
    "classifiers = [LinearSVC(class_weight='balanced'), \n",
    "               MultinomialNB(alpha=1), \n",
    "               LogisticRegression(solver='newton-cg')]\n"
   ]
  },
  {
   "cell_type": "code",
   "execution_count": 21,
   "metadata": {
    "colab": {
     "base_uri": "https://localhost:8080/",
     "height": 151
    },
    "executionInfo": {
     "elapsed": 1098677,
     "status": "ok",
     "timestamp": 1603346278968,
     "user": {
      "displayName": "djalilou ali",
      "photoUrl": "https://lh3.googleusercontent.com/a-/AOh14GivCNwGPoIvRniGsUT0JoYiANxs0EwL4QmyZ5GFiw=s64",
      "userId": "12017855888319370142"
     },
     "user_tz": -120
    },
    "id": "qgSm5wOKH7tZ",
    "outputId": "f5dc081f-8925-4a34-aa65-7cf5ef359860"
   },
   "outputs": [
    {
     "name": "stdout",
     "output_type": "stream",
     "text": [
      "Linear SVM classifier has as best parameters: {'C': 0.23111111111111113} - Best Score: 0.4095\n",
      "\n",
      "Naive Bayes classifier has as best parameters: {'alpha': 0.01} - Best Score: 0.3724\n",
      "\n",
      "Logistic Regrestion classifier has as best parameters: {'C': 1.5025} - Best Score: 0.4282\n",
      "\n"
     ]
    }
   ],
   "source": [
    "best_params = []\n",
    "for i,clf in enumerate(classifiers):\n",
    "    search = GridSearchCV(estimator=clf, param_grid=params[i])\n",
    "    search.fit(X_train0, Y_train0)\n",
    "    best_params.append(search.best_params_)\n",
    "    print(f\"{names[i]} classifier has as best parameters: {search.best_params_} - Best Score: {search.best_score_:.4f}\")\n",
    "    print()"
   ]
  },
  {
   "cell_type": "code",
   "execution_count": 22,
   "metadata": {
    "colab": {
     "base_uri": "https://localhost:8080/",
     "height": 34
    },
    "executionInfo": {
     "elapsed": 1091,
     "status": "ok",
     "timestamp": 1603346477518,
     "user": {
      "displayName": "djalilou ali",
      "photoUrl": "https://lh3.googleusercontent.com/a-/AOh14GivCNwGPoIvRniGsUT0JoYiANxs0EwL4QmyZ5GFiw=s64",
      "userId": "12017855888319370142"
     },
     "user_tz": -120
    },
    "id": "F-ywveHzyG_3",
    "outputId": "457a0492-6723-47e2-a536-125c5fdca1cd"
   },
   "outputs": [
    {
     "data": {
      "text/plain": [
       "[{'C': 0.23111111111111113}, {'alpha': 0.01}, {'C': 1.5025}]"
      ]
     },
     "execution_count": 22,
     "metadata": {},
     "output_type": "execute_result"
    }
   ],
   "source": [
    "best_params"
   ]
  },
  {
   "cell_type": "code",
   "execution_count": 23,
   "metadata": {
    "colab": {
     "base_uri": "https://localhost:8080/",
     "height": 286
    },
    "executionInfo": {
     "elapsed": 4188,
     "status": "ok",
     "timestamp": 1603346484494,
     "user": {
      "displayName": "djalilou ali",
      "photoUrl": "https://lh3.googleusercontent.com/a-/AOh14GivCNwGPoIvRniGsUT0JoYiANxs0EwL4QmyZ5GFiw=s64",
      "userId": "12017855888319370142"
     },
     "user_tz": -120
    },
    "id": "AOOqAkbq1cMc",
    "outputId": "49175cbf-944a-455b-c311-6e7da376e181"
   },
   "outputs": [
    {
     "name": "stdout",
     "output_type": "stream",
     "text": [
      "====================================================================================================\n",
      "              precision    recall  f1-score   support\n",
      "\n",
      "           1       0.59      0.71      0.64      1321\n",
      "           2       0.23      0.16      0.19       620\n",
      "           3       0.23      0.18      0.20       587\n",
      "           4       0.34      0.31      0.33       721\n",
      "           7       0.32      0.35      0.33       640\n",
      "           8       0.29      0.25      0.27       775\n",
      "           9       0.20      0.16      0.18       560\n",
      "          10       0.52      0.63      0.57      1276\n",
      "\n",
      "    accuracy                           0.41      6500\n",
      "   macro avg       0.34      0.34      0.34      6500\n",
      "weighted avg       0.39      0.41      0.40      6500\n",
      "\n"
     ]
    }
   ],
   "source": [
    "clf= LinearSVC(class_weight='balanced',  ** best_params[0])\n",
    "clf.fit(X_train0, Y_train0)\n",
    "Y_pred_train = clf.predict(X_train0)\n",
    "Y_pred_test = clf.predict(X_val)\n",
    "print('='*100)\n",
    "accuracy_score(Y_train0, Y_pred_train)*100\n",
    "accuracy_score(Y_val, Y_pred_test)*100\n",
    "print(classification_report(Y_val, Y_pred_test))\n",
    "  "
   ]
  },
  {
   "cell_type": "code",
   "execution_count": 24,
   "metadata": {
    "colab": {
     "base_uri": "https://localhost:8080/",
     "height": 286
    },
    "executionInfo": {
     "elapsed": 1120,
     "status": "ok",
     "timestamp": 1603346490373,
     "user": {
      "displayName": "djalilou ali",
      "photoUrl": "https://lh3.googleusercontent.com/a-/AOh14GivCNwGPoIvRniGsUT0JoYiANxs0EwL4QmyZ5GFiw=s64",
      "userId": "12017855888319370142"
     },
     "user_tz": -120
    },
    "id": "msZNCtsv2S2c",
    "outputId": "ba2ca462-69e8-41cc-c3b1-d08e25e7103f"
   },
   "outputs": [
    {
     "name": "stdout",
     "output_type": "stream",
     "text": [
      "====================================================================================================\n",
      "              precision    recall  f1-score   support\n",
      "\n",
      "           1       0.47      0.76      0.58      1321\n",
      "           2       0.18      0.07      0.10       620\n",
      "           3       0.24      0.14      0.17       587\n",
      "           4       0.29      0.20      0.24       721\n",
      "           7       0.27      0.21      0.23       640\n",
      "           8       0.25      0.25      0.25       775\n",
      "           9       0.22      0.12      0.15       560\n",
      "          10       0.45      0.60      0.52      1276\n",
      "\n",
      "    accuracy                           0.38      6500\n",
      "   macro avg       0.30      0.29      0.28      6500\n",
      "weighted avg       0.33      0.38      0.34      6500\n",
      "\n"
     ]
    }
   ],
   "source": [
    "clf= MultinomialNB(**best_params[1])\n",
    "clf.fit(X_train0, Y_train0)\n",
    "Y_pred_train = clf.predict(X_train0)\n",
    "Y_pred_test = clf.predict(X_val)\n",
    "print('='*100)\n",
    "accuracy_score(Y_train0, Y_pred_train)*100\n",
    "accuracy_score(Y_val, Y_pred_test)*100\n",
    "print(classification_report(Y_val, Y_pred_test))"
   ]
  },
  {
   "cell_type": "code",
   "execution_count": 25,
   "metadata": {
    "colab": {
     "base_uri": "https://localhost:8080/",
     "height": 286
    },
    "executionInfo": {
     "elapsed": 28619,
     "status": "ok",
     "timestamp": 1603346525549,
     "user": {
      "displayName": "djalilou ali",
      "photoUrl": "https://lh3.googleusercontent.com/a-/AOh14GivCNwGPoIvRniGsUT0JoYiANxs0EwL4QmyZ5GFiw=s64",
      "userId": "12017855888319370142"
     },
     "user_tz": -120
    },
    "id": "iWN9il5q2mE-",
    "outputId": "a2b9d8e7-b6f3-46a7-ec28-5730ce0ade87"
   },
   "outputs": [
    {
     "name": "stdout",
     "output_type": "stream",
     "text": [
      "====================================================================================================\n",
      "              precision    recall  f1-score   support\n",
      "\n",
      "           1       0.54      0.81      0.65      1321\n",
      "           2       0.25      0.08      0.12       620\n",
      "           3       0.23      0.14      0.17       587\n",
      "           4       0.37      0.31      0.34       721\n",
      "           7       0.34      0.28      0.31       640\n",
      "           8       0.29      0.27      0.28       775\n",
      "           9       0.25      0.08      0.13       560\n",
      "          10       0.48      0.74      0.58      1276\n",
      "\n",
      "    accuracy                           0.43      6500\n",
      "   macro avg       0.34      0.34      0.32      6500\n",
      "weighted avg       0.38      0.43      0.38      6500\n",
      "\n"
     ]
    }
   ],
   "source": [
    "clf= LogisticRegression(solver='newton-cg', **best_params[2], max_iter=1500)\n",
    "clf.fit(X_train0, Y_train0)\n",
    "Y_pred_train = clf.predict(X_train0)\n",
    "Y_pred_test = clf.predict(X_val)\n",
    "print('='*100)\n",
    "accuracy_score(Y_train0, Y_pred_train)*100\n",
    "accuracy_score(Y_val, Y_pred_test)*100\n",
    "print(classification_report(Y_val, Y_pred_test))"
   ]
  },
  {
   "cell_type": "code",
   "execution_count": 26,
   "metadata": {
    "id": "fXhwZl4Qoyi5"
   },
   "outputs": [],
   "source": [
    "# write your code here\n",
    "#X_train = X_train\n",
    "Y_train = np.array(df_train['score'].tolist())\n",
    "#X_test = X_test\n",
    "Y_test = np.array(df_test['score'].tolist())"
   ]
  },
  {
   "cell_type": "code",
   "execution_count": 27,
   "metadata": {
    "id": "17mIPr08sRXu"
   },
   "outputs": [],
   "source": [
    "classifier = LinearSVC(class_weight='balanced',  ** best_params[0])"
   ]
  },
  {
   "cell_type": "markdown",
   "metadata": {
    "id": "N6I29DPl6dRr"
   },
   "source": [
    "Run the code below to train your classifier, then test it with the block that follows."
   ]
  },
  {
   "cell_type": "code",
   "execution_count": 28,
   "metadata": {
    "id": "WCebPdgYhlCf"
   },
   "outputs": [],
   "source": [
    "####################################################################\n",
    "###################### DO NOT MODIFY THIS PART #####################\n",
    "classifier.fit(X_train, Y_train)\n",
    "\n",
    "Y_pred_train = classifier.predict(X_train)\n",
    "Y_pred_test = classifier.predict(X_test)\n",
    "Y_pred_test_class = np.around(Y_pred_test)\n",
    "####################################################################"
   ]
  },
  {
   "cell_type": "code",
   "execution_count": 29,
   "metadata": {
    "colab": {
     "base_uri": "https://localhost:8080/",
     "height": 766
    },
    "executionInfo": {
     "elapsed": 1412,
     "status": "ok",
     "timestamp": 1603347125621,
     "user": {
      "displayName": "djalilou ali",
      "photoUrl": "https://lh3.googleusercontent.com/a-/AOh14GivCNwGPoIvRniGsUT0JoYiANxs0EwL4QmyZ5GFiw=s64",
      "userId": "12017855888319370142"
     },
     "user_tz": -120
    },
    "id": "cE8mniZso92A",
    "outputId": "43427c72-4ecb-4a01-bdf5-37291c735018"
   },
   "outputs": [
    {
     "name": "stdout",
     "output_type": "stream",
     "text": [
      "R2 score 0.496464\n",
      "MAE 1.494440\n",
      "MSE 6.136040\n",
      "\n",
      "              precision    recall  f1-score   support\n",
      "\n",
      "           1       0.59      0.72      0.65      5022\n",
      "           2       0.20      0.15      0.17      2302\n",
      "           3       0.22      0.18      0.20      2541\n",
      "           4       0.29      0.32      0.30      2635\n",
      "           7       0.27      0.28      0.27      2307\n",
      "           8       0.25      0.20      0.22      2850\n",
      "           9       0.21      0.15      0.18      2344\n",
      "          10       0.54      0.64      0.58      4999\n",
      "\n",
      "    accuracy                           0.40     25000\n",
      "   macro avg       0.32      0.33      0.32     25000\n",
      "weighted avg       0.37      0.40      0.38     25000\n",
      "\n",
      "[[3605  446  317  315   70   64   44  161]\n",
      " [1025  338  355  338   73   40   31  102]\n",
      " [ 697  367  445  622  164   77   48  121]\n",
      " [ 438  276  442  844  292  160   67  116]\n",
      " [  62   97  146  324  636  432  233  377]\n",
      " [  87   70  125  216  568  565  370  849]\n",
      " [  73   39   73  126  261  404  357 1011]\n",
      " [ 158   88   99  140  307  498  525 3184]]\n",
      "\n"
     ]
    },
    {
     "data": {
      "text/plain": [
       "<sklearn.metrics._plot.confusion_matrix.ConfusionMatrixDisplay at 0x1a0ec914880>"
      ]
     },
     "execution_count": 29,
     "metadata": {},
     "output_type": "execute_result"
    },
    {
     "data": {
      "image/png": "[encoded data removed]",
      "text/plain": [
       "<Figure size 432x288 with 2 Axes>"
      ]
     },
     "metadata": {
      "needs_background": "light"
     },
     "output_type": "display_data"
    }
   ],
   "source": [
    "####################################################################\n",
    "###################### DO NOT MODIFY THIS PART #####################\n",
    "from sklearn.metrics import r2_score, mean_absolute_error, mean_squared_error\n",
    "from sklearn.metrics import classification_report, confusion_matrix, plot_confusion_matrix\n",
    "import matplotlib.pyplot as plt\n",
    "\n",
    "\n",
    "# task as regression\n",
    "\n",
    "print(\"R2 score %f\" % (r2_score(Y_test, Y_pred_test)))\n",
    "print(\"MAE %f\" % (mean_absolute_error(Y_test, Y_pred_test)))\n",
    "print(\"MSE %f\" % (mean_squared_error(Y_test, Y_pred_test)))\n",
    "print()\n",
    "\n",
    "# task as multiclass classification\n",
    "\n",
    "report = classification_report(Y_test.astype('int'), Y_pred_test_class.astype('int'), labels=[1,2,3,4,7,8,9,10])\n",
    "print(report)\n",
    "\n",
    "confusion_matrix = confusion_matrix(Y_test.astype('int'), Y_pred_test_class.astype('int'), labels=[1,2,3,4,7,8,9,10])\n",
    "print(confusion_matrix)\n",
    "print()\n",
    "\n",
    "# fancy confusion matrix\n",
    "plot_confusion_matrix(classifier, X_test, Y_test, normalize='true', cmap=plt.cm.Blues, values_format=\".2f\")\n",
    "####################################################################"
   ]
  },
  {
   "cell_type": "markdown",
   "metadata": {
    "id": "UrTg8j0UzTWD"
   },
   "source": [
    "Credits:\n",
    "Andrea Galassi,\n",
    "Federico Ruggeri,\n",
    "Paolo Torroni\n",
    "(Oct 2020)"
   ]
  }
 ],
 "metadata": {
  "colab": {
   "collapsed_sections": [],
   "name": "Assignment1.ipynb",
   "provenance": [],
   "toc_visible": true
  },
  "kernelspec": {
   "display_name": "Python_nlp",
   "language": "python",
   "name": "nlp_python"
  },
  "language_info": {
   "codemirror_mode": {
    "name": "ipython",
    "version": 3
   },
   "file_extension": ".py",
   "mimetype": "text/x-python",
   "name": "python",
   "nbconvert_exporter": "python",
   "pygments_lexer": "ipython3",
   "version": "3.8.5"
  }
 },
 "nbformat": 4,
 "nbformat_minor": 1
}
