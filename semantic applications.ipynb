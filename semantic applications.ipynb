{
 "cells": [
  {
   "cell_type": "markdown",
   "metadata": {
    "id": "3GM9DBN-Qz3k"
   },
   "source": [
    "# Assignment 4\n",
    "\n",
    "**Due to**: TBD\n",
    "\n",
    "**Credits**: Andrea Galassi, Federico Ruggeri, Paolo Torroni\n",
    "\n",
    "**Summary**: Fact checking, Neural Languange Inference (**NLI**)"
   ]
  },
  {
   "cell_type": "markdown",
   "metadata": {
    "id": "tO_-4CZeRCO7"
   },
   "source": [
    "# Intro\n",
    "\n",
    "This assignment is centred on a particular and emerging NLP task, formally known as **fact checking** (or fake checking). As AI techniques become more and more powerful, reaching amazing results, such as image and text generation, it is more than ever necessary to build tools able to distinguish what is real from what is fake.\n",
    "\n",
    "Here we focus on a small portion of the whole fact checking problem, which aims to determine whether a given statement (fact) conveys a trustworthy information or not. \n",
    "\n",
    "More precisely, given a set of evidences and a fact to verify, we would like our model to correctly predict whether the fact is true or fake.\n",
    "\n",
    "In particular, we will see:\n",
    "\n",
    "*   Dataset preparation (analysis and pre-processing)\n",
    "*   Problem formulation: multi-input binary classification\n",
    "*   Defining an evaluation method\n",
    "*   Simple sentence embedding\n",
    "*   Neural building blocks\n",
    "*   Neural architecture extension"
   ]
  },
  {
   "cell_type": "markdown",
   "metadata": {
    "id": "hGDwg78PS_uy"
   },
   "source": [
    "# The FEVER dataset\n",
    "\n",
    "First of all, we need to choose a dataset. In this assignment we will rely on the [FEVER dataset](https://fever.ai).\n",
    "\n",
    "The dataset is about facts taken from Wikipedia documents that have to be verified. In particular, facts could face manual modifications in order to define fake information or to give different formulations of the same concept.\n",
    "\n",
    "The dataset consists of 185,445 claims manually verified against the introductory sections of Wikipedia pages and classified as ```Supported```, ```Refuted``` or ```NotEnoughInfo```. For the first two classes, systems and annotators need to also return the combination of sentences forming the necessary evidence supporting or refuting the claim."
   ]
  },
  {
   "cell_type": "markdown",
   "metadata": {
    "id": "4Oa5FpVpT7p4"
   },
   "source": [
    "## Dataset structure\n",
    "\n",
    "Relevant data is divided into two file types. Information concerning the fact to verify, its verdict and associated supporting/opposing statements are stored in **.jsonl** format. In particular, each JSON element is a python dictionary with the following relevant fields:\n",
    "\n",
    "*    **ID**: ID associated to the fact to verify.\n",
    "\n",
    "*    **Verifiable**: whether the fact has been verified or not: ```VERIFIABLE``` or ```NOT VERIFIABLE```.\n",
    "    \n",
    "*    **Label**: the final verdict on the fact to verify: ```SUPPORTS```, ```REFUTES``` or ```NOT ENOUGH INFO```.\n",
    "    \n",
    "*    **Claim**: the fact to verify.\n",
    "    \n",
    "*    **Evidence**: a nested list of document IDs along with the sentence ID that is associated to the fact to verify. In particular, each list element is a tuple of four elements: the first two are internal annotator IDs that can be safely ignored; the third term is the document ID (called URL) and the last one is the sentence number (ID) in the pointed document to consider.\n",
    "\n",
    "**Some Examples**\n",
    "\n",
    "---\n",
    "\n",
    "**Verifiable**\n",
    "\n",
    "{\"id\": 202314, \"verifiable\": \"VERIFIABLE\", \"label\": \"REFUTES\", \"claim\": \"The New Jersey Turnpike has zero shoulders.\", \"evidence\": [[[238335, 240393, \"New_Jersey_Turnpike\", 15]]]}\n",
    "\n",
    "---\n",
    "\n",
    "**Not Verifiable**\n",
    "\n",
    "{\"id\": 113501, \"verifiable\": \"NOT VERIFIABLE\", \"label\": \"NOT ENOUGH INFO\", \"claim\": \"Grease had bad reviews.\", \"evidence\": [[[133128, null, null, null]]]}\n",
    "\n",
    "---"
   ]
  },
  {
   "cell_type": "markdown",
   "metadata": {
    "id": "nex_8UM4VWuY"
   },
   "source": [
    "## Some simplifications and pre-processing\n",
    "\n",
    "We are only interested in verifiable facts. Thus, we can filter out all non-verifiable claims.\n",
    "\n",
    "Additionally, the current dataset format does not contain all necessary information for our classification purposes. In particular, we need to download Wikipedia documents and replace reported evidence IDs with the corresponding text.\n",
    "\n",
    "Don't worry about that! We are providing you the already pre-processed dataset so that you can concentrate on the classification pipeline (pre-processing, model definition, evaluation and training).\n",
    "\n",
    "You can download the zip file containing all set splits (train, validation and test) of the FEVER dataset by clicking on this [link](https://drive.google.com/file/d/1wArZhF9_SHW17WKNGeLmX-QTYw9Zscl1/view?usp=sharing). Alternatively, run the below code cell to automatically download it on this notebook.\n",
    "\n",
    "**Note**: each dataset split is in .csv format. Feel free to inspect the whole dataset!"
   ]
  },
  {
   "cell_type": "code",
   "execution_count": 1,
   "metadata": {
    "executionInfo": {
     "elapsed": 3439,
     "status": "ok",
     "timestamp": 1608662661172,
     "user": {
      "displayName": "ali ali",
      "photoUrl": "https://lh3.googleusercontent.com/a-/AOh14Gid6xt9N7tTtg4a3G2Mvxxcj4meJffeVcQMcLHY=s64",
      "userId": "01405940485992197713"
     },
     "user_tz": -60
    },
    "id": "uKrfWuCDJtQd"
   },
   "outputs": [],
   "source": [
    "import re\n",
    "import tensorflow as tf\n",
    "import numpy as np\n",
    "import pandas as pd\n",
    "from tensorflow.keras import layers, Model, callbacks\n",
    "from tensorflow.keras.layers.experimental.preprocessing import TextVectorization\n",
    "from sklearn.metrics import classification_report, f1_score\n",
    "from sklearn.metrics import pairwise_distances\n",
    "import matplotlib.pyplot as plt\n",
    "from scipy.spatial import distance\n",
    "plt.style.use('ggplot')"
   ]
  },
  {
   "cell_type": "code",
   "execution_count": 2,
   "metadata": {
    "colab": {
     "base_uri": "https://localhost:8080/"
    },
    "executionInfo": {
     "elapsed": 7460,
     "status": "ok",
     "timestamp": 1608662665199,
     "user": {
      "displayName": "ali ali",
      "photoUrl": "https://lh3.googleusercontent.com/a-/AOh14Gid6xt9N7tTtg4a3G2Mvxxcj4meJffeVcQMcLHY=s64",
      "userId": "01405940485992197713"
     },
     "user_tz": -60
    },
    "id": "BspxZcRjW0NG",
    "outputId": "aa28d997-b844-4b93-f7c8-8366e24475c6"
   },
   "outputs": [
    {
     "name": "stdout",
     "output_type": "stream",
     "text": [
      "Downloading FEVER data splits...\n",
      "Download completed!\n",
      "Extracting dataset...\n",
      "Extraction completed!\n"
     ]
    }
   ],
   "source": [
    "import os\n",
    "import requests\n",
    "import zipfile\n",
    "\n",
    "def save_response_content(response, destination):\n",
    "    CHUNK_SIZE = 32768\n",
    "\n",
    "    with open(destination, \"wb\") as f:\n",
    "        for chunk in response.iter_content(CHUNK_SIZE):\n",
    "            if chunk: # filter out keep-alive new chunks\n",
    "                f.write(chunk)\n",
    "\n",
    "def download_data(data_path):\n",
    "    toy_data_path = os.path.join(data_path, 'fever_data.zip')\n",
    "    toy_data_url_id = \"1wArZhF9_SHW17WKNGeLmX-QTYw9Zscl1\"\n",
    "    toy_url = \"https://docs.google.com/uc?export=download\"\n",
    "\n",
    "    if not os.path.exists(data_path):\n",
    "        os.makedirs(data_path)\n",
    "\n",
    "    if not os.path.exists(toy_data_path):\n",
    "        print(\"Downloading FEVER data splits...\")\n",
    "        with requests.Session() as current_session:\n",
    "            response = current_session.get(toy_url,\n",
    "                                   params={'id': toy_data_url_id},\n",
    "                                   stream=True)\n",
    "        save_response_content(response, toy_data_path)\n",
    "        print(\"Download completed!\")\n",
    "\n",
    "        print(\"Extracting dataset...\")\n",
    "        with zipfile.ZipFile(toy_data_path) as loaded_zip:\n",
    "            loaded_zip.extractall(data_path)\n",
    "        print(\"Extraction completed!\")\n",
    "\n",
    "download_data('dataset')"
   ]
  },
  {
   "cell_type": "code",
   "execution_count": 3,
   "metadata": {
    "executionInfo": {
     "elapsed": 7457,
     "status": "ok",
     "timestamp": 1608662665201,
     "user": {
      "displayName": "ali ali",
      "photoUrl": "https://lh3.googleusercontent.com/a-/AOh14Gid6xt9N7tTtg4a3G2Mvxxcj4meJffeVcQMcLHY=s64",
      "userId": "01405940485992197713"
     },
     "user_tz": -60
    },
    "id": "9qcZ-HQyDZDa"
   },
   "outputs": [],
   "source": [
    "def plot_graphs(history, metric):\n",
    "  plt.plot(history.history[metric])\n",
    "  plt.plot(history.history['val_'+metric], '')\n",
    "  plt.xlabel(\"Epochs\")\n",
    "  plt.ylabel(metric)\n",
    "  plt.legend([metric, 'val_'+metric])"
   ]
  },
  {
   "cell_type": "code",
   "execution_count": 4,
   "metadata": {
    "executionInfo": {
     "elapsed": 8048,
     "status": "ok",
     "timestamp": 1608662665795,
     "user": {
      "displayName": "ali ali",
      "photoUrl": "https://lh3.googleusercontent.com/a-/AOh14Gid6xt9N7tTtg4a3G2Mvxxcj4meJffeVcQMcLHY=s64",
      "userId": "01405940485992197713"
     },
     "user_tz": -60
    },
    "id": "_yPKKd5pvdtv"
   },
   "outputs": [],
   "source": [
    "# reading our datasets\n",
    "train = pd.read_csv(\"dataset/train_pairs.csv\",index_col=0) \n",
    "val = pd.read_csv(\"dataset/val_pairs.csv\",index_col=0) \n",
    "test = pd.read_csv(\"dataset/test_pairs.csv\",index_col=0) \n"
   ]
  },
  {
   "cell_type": "code",
   "execution_count": 4,
   "metadata": {
    "executionInfo": {
     "elapsed": 8047,
     "status": "ok",
     "timestamp": 1608662665797,
     "user": {
      "displayName": "ali ali",
      "photoUrl": "https://lh3.googleusercontent.com/a-/AOh14Gid6xt9N7tTtg4a3G2Mvxxcj4meJffeVcQMcLHY=s64",
      "userId": "01405940485992197713"
     },
     "user_tz": -60
    },
    "id": "7bVF7h17tko0"
   },
   "outputs": [],
   "source": []
  },
  {
   "cell_type": "code",
   "execution_count": 5,
   "metadata": {
    "colab": {
     "base_uri": "https://localhost:8080/",
     "height": 206
    },
    "executionInfo": {
     "elapsed": 8041,
     "status": "ok",
     "timestamp": 1608662665798,
     "user": {
      "displayName": "ali ali",
      "photoUrl": "https://lh3.googleusercontent.com/a-/AOh14Gid6xt9N7tTtg4a3G2Mvxxcj4meJffeVcQMcLHY=s64",
      "userId": "01405940485992197713"
     },
     "user_tz": -60
    },
    "id": "5GGu-ajqts3H",
    "outputId": "1946110a-a2b7-4b52-d97c-0cdb4fa11427"
   },
   "outputs": [
    {
     "data": {
      "text/html": [
       "<div>\n",
       "<style scoped>\n",
       "    .dataframe tbody tr th:only-of-type {\n",
       "        vertical-align: middle;\n",
       "    }\n",
       "\n",
       "    .dataframe tbody tr th {\n",
       "        vertical-align: top;\n",
       "    }\n",
       "\n",
       "    .dataframe thead th {\n",
       "        text-align: right;\n",
       "    }\n",
       "</style>\n",
       "<table border=\"1\" class=\"dataframe\">\n",
       "  <thead>\n",
       "    <tr style=\"text-align: right;\">\n",
       "      <th></th>\n",
       "      <th>Claim</th>\n",
       "      <th>Evidence</th>\n",
       "      <th>ID</th>\n",
       "      <th>Label</th>\n",
       "    </tr>\n",
       "  </thead>\n",
       "  <tbody>\n",
       "    <tr>\n",
       "      <th>0</th>\n",
       "      <td>Chris Hemsworth appeared in A Perfect Getaway.</td>\n",
       "      <td>2\\tHemsworth has also appeared in the science ...</td>\n",
       "      <td>3</td>\n",
       "      <td>SUPPORTS</td>\n",
       "    </tr>\n",
       "    <tr>\n",
       "      <th>1</th>\n",
       "      <td>Roald Dahl is a writer.</td>\n",
       "      <td>0\\tRoald Dahl -LRB- -LSB- langpronˈroʊ.əld _ ˈ...</td>\n",
       "      <td>7</td>\n",
       "      <td>SUPPORTS</td>\n",
       "    </tr>\n",
       "    <tr>\n",
       "      <th>2</th>\n",
       "      <td>Roald Dahl is a governor.</td>\n",
       "      <td>0\\tRoald Dahl -LRB- -LSB- langpronˈroʊ.əld _ ˈ...</td>\n",
       "      <td>8</td>\n",
       "      <td>REFUTES</td>\n",
       "    </tr>\n",
       "    <tr>\n",
       "      <th>3</th>\n",
       "      <td>Ireland has relatively low-lying mountains.</td>\n",
       "      <td>10\\tThe island 's geography comprises relative...</td>\n",
       "      <td>9</td>\n",
       "      <td>SUPPORTS</td>\n",
       "    </tr>\n",
       "    <tr>\n",
       "      <th>4</th>\n",
       "      <td>Ireland does not have relatively low-lying mou...</td>\n",
       "      <td>10\\tThe island 's geography comprises relative...</td>\n",
       "      <td>10</td>\n",
       "      <td>REFUTES</td>\n",
       "    </tr>\n",
       "  </tbody>\n",
       "</table>\n",
       "</div>"
      ],
      "text/plain": [
       "                                               Claim  ...     Label\n",
       "0     Chris Hemsworth appeared in A Perfect Getaway.  ...  SUPPORTS\n",
       "1                            Roald Dahl is a writer.  ...  SUPPORTS\n",
       "2                          Roald Dahl is a governor.  ...   REFUTES\n",
       "3        Ireland has relatively low-lying mountains.  ...  SUPPORTS\n",
       "4  Ireland does not have relatively low-lying mou...  ...   REFUTES\n",
       "\n",
       "[5 rows x 4 columns]"
      ]
     },
     "execution_count": 5,
     "metadata": {
      "tags": []
     },
     "output_type": "execute_result"
    }
   ],
   "source": [
    "train.head()"
   ]
  },
  {
   "cell_type": "code",
   "execution_count": 5,
   "metadata": {
    "executionInfo": {
     "elapsed": 8038,
     "status": "ok",
     "timestamp": 1608662665799,
     "user": {
      "displayName": "ali ali",
      "photoUrl": "https://lh3.googleusercontent.com/a-/AOh14Gid6xt9N7tTtg4a3G2Mvxxcj4meJffeVcQMcLHY=s64",
      "userId": "01405940485992197713"
     },
     "user_tz": -60
    },
    "id": "N4PAC7Ddepwa"
   },
   "outputs": [],
   "source": []
  },
  {
   "cell_type": "markdown",
   "metadata": {
    "id": "Vng7s4SIo1x5"
   },
   "source": [
    "The build a prepocess pipeline by removing useless information"
   ]
  },
  {
   "cell_type": "code",
   "execution_count": 6,
   "metadata": {
    "colab": {
     "base_uri": "https://localhost:8080/"
    },
    "executionInfo": {
     "elapsed": 9119,
     "status": "ok",
     "timestamp": 1608662666884,
     "user": {
      "displayName": "ali ali",
      "photoUrl": "https://lh3.googleusercontent.com/a-/AOh14Gid6xt9N7tTtg4a3G2Mvxxcj4meJffeVcQMcLHY=s64",
      "userId": "01405940485992197713"
     },
     "user_tz": -60
    },
    "id": "2gJSCUcUvy1T",
    "outputId": "9cec1fe5-b166-4b37-906e-2e7705caa5a6"
   },
   "outputs": [
    {
     "name": "stdout",
     "output_type": "stream",
     "text": [
      "[nltk_data] Downloading package stopwords to /root/nltk_data...\n",
      "[nltk_data]   Unzipping corpora/stopwords.zip.\n"
     ]
    }
   ],
   "source": [
    "# Here we are cleaning the data to be processed\n",
    "\n",
    "import re\n",
    "from functools import reduce\n",
    "import nltk\n",
    "from nltk.corpus import stopwords\n",
    "\n",
    "REPLACE_BY_SPACE_RE = re.compile('[/(){}\\[\\]\\|@,;]')\n",
    "GOOD_SYMBOLS_RE = re.compile('[^0-9a-z #+_]')\n",
    "\n",
    "#Removing Non-English Words\n",
    "try:\n",
    "    STOPWORDS = set(stopwords.words('english')) \n",
    "except LookupError:\n",
    "    nltk.download('stopwords')\n",
    "    STOPWORDS = set(stopwords.words('english'))\n",
    "\n",
    "def lower(text):\n",
    "    \n",
    "    #Converting All Text to Lower Case Characters\n",
    "\n",
    "    return text.lower()\n",
    "\n",
    "def replace_special_characters(text):\n",
    "\n",
    "    # Replaces Special Characters like Ampersand , Parenthesis , etc with Spacing Character    \n",
    "\n",
    "    return REPLACE_BY_SPACE_RE.sub(' ', text)\n",
    "\n",
    "def filter_out_uncommon_symbols(text):\n",
    "  \n",
    "   # Removes any Special Special Characters that is not a Good Symbol under Regular Expression \n",
    "\n",
    "    return GOOD_SYMBOLS_RE.sub('', text)\n",
    "\n",
    "def remove_stopwords(text):\n",
    "\n",
    "    return ' '.join([x for x in text.split() if x and x not in STOPWORDS])\n",
    "\n",
    "def remove_extra_spaces(text):\n",
    "\n",
    "   # Removes Unwanted Spacing Character's (Left and Right) from the Text \n",
    "   \n",
    "    return re.sub('\\s+',' ',text)\n",
    "\n",
    "def strip_text(text):\n",
    "\n",
    "   #Removes both the leading and the trailing characters based on the string argument passed.\n",
    "\n",
    "    return text.strip()\n",
    "\n",
    "def remove_starting_index(text):\n",
    "\n",
    "  #Removes Unwanted Numbers from the Starting Index.\n",
    "    \n",
    "    return re.sub('^[0-9]+\\t', '', text)\n",
    "\n",
    "def remove_pronunciation(text):\n",
    "\n",
    "  #Removes Unwanted Text (Pronunciation's) when it comes between LSB and RSB.\n",
    "    \n",
    "    return re.sub('-LSB- .* -RSB- ', '', text)\n",
    "\n",
    "NLTK_SYM = re.compile('\\-[A-Z]{3}\\-')\n",
    "\n",
    "def remove_NLTK_sym(text):\n",
    "   \n",
    "  #Removes NLTK special tokens, eg. LRB (Left Round Bracket) and RRB (Right Round Brackets) .\n",
    "\n",
    "    return NLTK_SYM.sub('', text)\n",
    "\n",
    "def remove_tabs(text):\n",
    "   \n",
    "   #Removes Unwanted Tab Character in Text \n",
    "   \n",
    "    return re.sub('\\t',' ', text)\n",
    "\n",
    "def flatten(L):\n",
    "  res = []\n",
    "  for x in L:\n",
    "    if isinstance(x, list):\n",
    "      res += flatten(x)\n",
    "    else:\n",
    "      res.append(x)\n",
    "  return res\n",
    "\n",
    "\n",
    "def Token(txt):\n",
    "  return [line.split() for line in txt]"
   ]
  },
  {
   "cell_type": "code",
   "execution_count": 7,
   "metadata": {
    "executionInfo": {
     "elapsed": 9118,
     "status": "ok",
     "timestamp": 1608662666887,
     "user": {
      "displayName": "ali ali",
      "photoUrl": "https://lh3.googleusercontent.com/a-/AOh14Gid6xt9N7tTtg4a3G2Mvxxcj4meJffeVcQMcLHY=s64",
      "userId": "01405940485992197713"
     },
     "user_tz": -60
    },
    "id": "mkSLtxRJxWko"
   },
   "outputs": [],
   "source": [
    "PREPROCESSING_PIPELINE = [\n",
    "                          remove_starting_index,\n",
    "                          remove_pronunciation,\n",
    "                          remove_NLTK_sym,\n",
    "                          lower,\n",
    "                          replace_special_characters,\n",
    "                          remove_extra_spaces,\n",
    "                          remove_tabs,\n",
    "                          strip_text\n",
    "                          ]\n",
    "\n",
    "\n",
    "#Using Anchor method to Filter the Text using the pre-processing pipeline sequence as given above\n",
    "\n",
    "def text_prepare(text, reduce_methods=None):\n",
    "    \n",
    "    reduce_methods = reduce_methods if reduce_methods is not None else PREPROCESSING_PIPELINE\n",
    "\n",
    "    return reduce(lambda txt, f: f(txt), reduce_methods, text)\n",
    "\n"
   ]
  },
  {
   "cell_type": "code",
   "execution_count": 8,
   "metadata": {
    "colab": {
     "base_uri": "https://localhost:8080/"
    },
    "executionInfo": {
     "elapsed": 12639,
     "status": "ok",
     "timestamp": 1608662670413,
     "user": {
      "displayName": "ali ali",
      "photoUrl": "https://lh3.googleusercontent.com/a-/AOh14Gid6xt9N7tTtg4a3G2Mvxxcj4meJffeVcQMcLHY=s64",
      "userId": "01405940485992197713"
     },
     "user_tz": -60
    },
    "id": "5jIhoiUtxZXZ",
    "outputId": "df650985-e04a-4912-aee0-392376be5000"
   },
   "outputs": [
    {
     "name": "stdout",
     "output_type": "stream",
     "text": [
      "Pre-processing the Evidence...\n",
      "Pre-processing Completed\n"
     ]
    }
   ],
   "source": [
    "# Pre-processing\n",
    "\n",
    "print('Pre-processing the Evidence...')\n",
    "# Replace each sentence with its pre-processed version\n",
    "train['Evidence']=train['Evidence'].apply(lambda txt: text_prepare(txt))\n",
    "val['Evidence']=val['Evidence'].apply(lambda txt: text_prepare(txt))\n",
    "test['Evidence']=test['Evidence'].apply(lambda txt: text_prepare(txt))\n",
    "\n",
    "# Converting claims into lower case\n",
    "train['Claim']=train['Claim'].str.strip().str.lower()\n",
    "val['Claim']=val['Claim'].str.strip().str.lower()\n",
    "test['Claim']=test['Claim'].str.strip().str.lower()\n",
    "\n",
    "print(\"Pre-processing Completed\")\n"
   ]
  },
  {
   "cell_type": "code",
   "execution_count": 9,
   "metadata": {
    "colab": {
     "base_uri": "https://localhost:8080/",
     "height": 363
    },
    "executionInfo": {
     "elapsed": 12635,
     "status": "ok",
     "timestamp": 1608662670414,
     "user": {
      "displayName": "ali ali",
      "photoUrl": "https://lh3.googleusercontent.com/a-/AOh14Gid6xt9N7tTtg4a3G2Mvxxcj4meJffeVcQMcLHY=s64",
      "userId": "01405940485992197713"
     },
     "user_tz": -60
    },
    "id": "ReDm2bFHxbXA",
    "outputId": "75848ff4-d20d-42a0-8dcb-2ed58aaeca9c"
   },
   "outputs": [
    {
     "data": {
      "text/html": [
       "<div>\n",
       "<style scoped>\n",
       "    .dataframe tbody tr th:only-of-type {\n",
       "        vertical-align: middle;\n",
       "    }\n",
       "\n",
       "    .dataframe tbody tr th {\n",
       "        vertical-align: top;\n",
       "    }\n",
       "\n",
       "    .dataframe thead th {\n",
       "        text-align: right;\n",
       "    }\n",
       "</style>\n",
       "<table border=\"1\" class=\"dataframe\">\n",
       "  <thead>\n",
       "    <tr style=\"text-align: right;\">\n",
       "      <th></th>\n",
       "      <th>Claim</th>\n",
       "      <th>Evidence</th>\n",
       "      <th>ID</th>\n",
       "      <th>Label</th>\n",
       "    </tr>\n",
       "  </thead>\n",
       "  <tbody>\n",
       "    <tr>\n",
       "      <th>0</th>\n",
       "      <td>anxiety has been linked with physical symptoms.</td>\n",
       "      <td>furthermore anxiety has been linked with physi...</td>\n",
       "      <td>16387</td>\n",
       "      <td>SUPPORTS</td>\n",
       "    </tr>\n",
       "    <tr>\n",
       "      <th>1</th>\n",
       "      <td>firefox is an application.</td>\n",
       "      <td>mozilla firefox or simply firefox is a free an...</td>\n",
       "      <td>6</td>\n",
       "      <td>SUPPORTS</td>\n",
       "    </tr>\n",
       "    <tr>\n",
       "      <th>2</th>\n",
       "      <td>keegan-michael key played president barack oba...</td>\n",
       "      <td>in 2015 key appeared at the white house corres...</td>\n",
       "      <td>16392</td>\n",
       "      <td>SUPPORTS</td>\n",
       "    </tr>\n",
       "    <tr>\n",
       "      <th>3</th>\n",
       "      <td>google search can find stock quotes.</td>\n",
       "      <td>these include synonyms weather forecasts time ...</td>\n",
       "      <td>16394</td>\n",
       "      <td>SUPPORTS</td>\n",
       "    </tr>\n",
       "    <tr>\n",
       "      <th>4</th>\n",
       "      <td>a good day to die hard was directed solely by ...</td>\n",
       "      <td>the film was directed by john moore and writte...</td>\n",
       "      <td>98315</td>\n",
       "      <td>REFUTES</td>\n",
       "    </tr>\n",
       "    <tr>\n",
       "      <th>5</th>\n",
       "      <td>temple mount is the holiest site in judaism.</td>\n",
       "      <td>the temple mount is the holiest site in judais...</td>\n",
       "      <td>32781</td>\n",
       "      <td>SUPPORTS</td>\n",
       "    </tr>\n",
       "    <tr>\n",
       "      <th>6</th>\n",
       "      <td>a good day to die hard was directed by john mo...</td>\n",
       "      <td>the film was directed by john moore and writte...</td>\n",
       "      <td>51885</td>\n",
       "      <td>SUPPORTS</td>\n",
       "    </tr>\n",
       "    <tr>\n",
       "      <th>7</th>\n",
       "      <td>spider-man 2 was released in 2004.</td>\n",
       "      <td>spider-man 2 is a 2004 american superhero film...</td>\n",
       "      <td>49168</td>\n",
       "      <td>SUPPORTS</td>\n",
       "    </tr>\n",
       "    <tr>\n",
       "      <th>8</th>\n",
       "      <td>in 2004, spider-man 2 was released.</td>\n",
       "      <td>spider-man 2 was released in both conventional...</td>\n",
       "      <td>49169</td>\n",
       "      <td>SUPPORTS</td>\n",
       "    </tr>\n",
       "    <tr>\n",
       "      <th>9</th>\n",
       "      <td>maria theresa was unrelated to emperor charles...</td>\n",
       "      <td>she started her 40-year reign when her father ...</td>\n",
       "      <td>65564</td>\n",
       "      <td>REFUTES</td>\n",
       "    </tr>\n",
       "  </tbody>\n",
       "</table>\n",
       "</div>"
      ],
      "text/plain": [
       "                                               Claim  ...     Label\n",
       "0    anxiety has been linked with physical symptoms.  ...  SUPPORTS\n",
       "1                         firefox is an application.  ...  SUPPORTS\n",
       "2  keegan-michael key played president barack oba...  ...  SUPPORTS\n",
       "3               google search can find stock quotes.  ...  SUPPORTS\n",
       "4  a good day to die hard was directed solely by ...  ...   REFUTES\n",
       "5       temple mount is the holiest site in judaism.  ...  SUPPORTS\n",
       "6  a good day to die hard was directed by john mo...  ...  SUPPORTS\n",
       "7                 spider-man 2 was released in 2004.  ...  SUPPORTS\n",
       "8                in 2004, spider-man 2 was released.  ...  SUPPORTS\n",
       "9  maria theresa was unrelated to emperor charles...  ...   REFUTES\n",
       "\n",
       "[10 rows x 4 columns]"
      ]
     },
     "execution_count": 9,
     "metadata": {
      "tags": []
     },
     "output_type": "execute_result"
    }
   ],
   "source": [
    "#Print the Pre-Processing Data\n",
    "test.head(10)"
   ]
  },
  {
   "cell_type": "code",
   "execution_count": 10,
   "metadata": {
    "executionInfo": {
     "elapsed": 12631,
     "status": "ok",
     "timestamp": 1608662670415,
     "user": {
      "displayName": "ali ali",
      "photoUrl": "https://lh3.googleusercontent.com/a-/AOh14Gid6xt9N7tTtg4a3G2Mvxxcj4meJffeVcQMcLHY=s64",
      "userId": "01405940485992197713"
     },
     "user_tz": -60
    },
    "id": "Bb1hSA2yU4N0"
   },
   "outputs": [],
   "source": [
    "claims, evidence, labels = train.Claim, train.Evidence, train.Label\n",
    "test_claims, test_evidence, test_labels = test.Claim, test.Evidence, test.Label"
   ]
  },
  {
   "cell_type": "markdown",
   "metadata": {
    "id": "1Q0i44ami44G"
   },
   "source": [
    "<h4> show the distribution of the target class </h4>"
   ]
  },
  {
   "cell_type": "code",
   "execution_count": 11,
   "metadata": {
    "colab": {
     "base_uri": "https://localhost:8080/",
     "height": 143
    },
    "executionInfo": {
     "elapsed": 12627,
     "status": "ok",
     "timestamp": 1608662670416,
     "user": {
      "displayName": "ali ali",
      "photoUrl": "https://lh3.googleusercontent.com/a-/AOh14Gid6xt9N7tTtg4a3G2Mvxxcj4meJffeVcQMcLHY=s64",
      "userId": "01405940485992197713"
     },
     "user_tz": -60
    },
    "id": "igWqVOh2HG4P",
    "outputId": "f7ebc445-0663-407f-8fcd-42f3cffc65b9"
   },
   "outputs": [
    {
     "data": {
      "text/html": [
       "<div>\n",
       "<style scoped>\n",
       "    .dataframe tbody tr th:only-of-type {\n",
       "        vertical-align: middle;\n",
       "    }\n",
       "\n",
       "    .dataframe tbody tr th {\n",
       "        vertical-align: top;\n",
       "    }\n",
       "\n",
       "    .dataframe thead th {\n",
       "        text-align: right;\n",
       "    }\n",
       "</style>\n",
       "<table border=\"1\" class=\"dataframe\">\n",
       "  <thead>\n",
       "    <tr style=\"text-align: right;\">\n",
       "      <th></th>\n",
       "      <th>Claim</th>\n",
       "      <th>Evidence</th>\n",
       "      <th>ID</th>\n",
       "    </tr>\n",
       "    <tr>\n",
       "      <th>Label</th>\n",
       "      <th></th>\n",
       "      <th></th>\n",
       "      <th></th>\n",
       "    </tr>\n",
       "  </thead>\n",
       "  <tbody>\n",
       "    <tr>\n",
       "      <th>REFUTES</th>\n",
       "      <td>32351</td>\n",
       "      <td>32351</td>\n",
       "      <td>32351</td>\n",
       "    </tr>\n",
       "    <tr>\n",
       "      <th>SUPPORTS</th>\n",
       "      <td>89389</td>\n",
       "      <td>89389</td>\n",
       "      <td>89389</td>\n",
       "    </tr>\n",
       "  </tbody>\n",
       "</table>\n",
       "</div>"
      ],
      "text/plain": [
       "          Claim  Evidence     ID\n",
       "Label                           \n",
       "REFUTES   32351     32351  32351\n",
       "SUPPORTS  89389     89389  89389"
      ]
     },
     "execution_count": 11,
     "metadata": {
      "tags": []
     },
     "output_type": "execute_result"
    }
   ],
   "source": [
    "# label class distribution\n",
    "class_dist = train.groupby('Label').count()\n",
    "class_dist"
   ]
  },
  {
   "cell_type": "code",
   "execution_count": 12,
   "metadata": {
    "colab": {
     "base_uri": "https://localhost:8080/",
     "height": 342
    },
    "executionInfo": {
     "elapsed": 12623,
     "status": "ok",
     "timestamp": 1608662670417,
     "user": {
      "displayName": "ali ali",
      "photoUrl": "https://lh3.googleusercontent.com/a-/AOh14Gid6xt9N7tTtg4a3G2Mvxxcj4meJffeVcQMcLHY=s64",
      "userId": "01405940485992197713"
     },
     "user_tz": -60
    },
    "id": "8a7RCbMXHMea",
    "outputId": "d4b4aaa6-75ba-4d92-beb8-45476986443e"
   },
   "outputs": [
    {
     "data": {
      "text/plain": [
       "<Figure size 720x720 with 0 Axes>"
      ]
     },
     "metadata": {
      "tags": []
     },
     "output_type": "display_data"
    },
    {
     "data": {
      "image/png": "[encoded data removed]",
      "text/plain": [
       "<Figure size 432x288 with 1 Axes>"
      ]
     },
     "metadata": {
      "needs_background": "light",
      "tags": []
     },
     "output_type": "display_data"
    }
   ],
   "source": [
    "plt.figure(figsize=(10,10))\n",
    "class_dist[['Claim', 'Evidence']].plot.bar()\n",
    "plt.show()"
   ]
  },
  {
   "cell_type": "markdown",
   "metadata": {
    "id": "m0KF-NETjNd7"
   },
   "source": [
    "<h3> transform the target class into binary digits 0 and 1 </h3>"
   ]
  },
  {
   "cell_type": "code",
   "execution_count": 13,
   "metadata": {
    "executionInfo": {
     "elapsed": 12621,
     "status": "ok",
     "timestamp": 1608662670418,
     "user": {
      "displayName": "ali ali",
      "photoUrl": "https://lh3.googleusercontent.com/a-/AOh14Gid6xt9N7tTtg4a3G2Mvxxcj4meJffeVcQMcLHY=s64",
      "userId": "01405940485992197713"
     },
     "user_tz": -60
    },
    "id": "EoPPDud3AUMN"
   },
   "outputs": [],
   "source": [
    "train_labels = np.array(list(map(lambda x: 1 if x == 'SUPPORTS' else 0, labels)))\n",
    "test_labels = np.array(list(map(lambda x: 1 if x == 'SUPPORTS' else 0, test_labels)))"
   ]
  },
  {
   "cell_type": "code",
   "execution_count": 13,
   "metadata": {
    "executionInfo": {
     "elapsed": 12619,
     "status": "ok",
     "timestamp": 1608662670418,
     "user": {
      "displayName": "ali ali",
      "photoUrl": "https://lh3.googleusercontent.com/a-/AOh14Gid6xt9N7tTtg4a3G2Mvxxcj4meJffeVcQMcLHY=s64",
      "userId": "01405940485992197713"
     },
     "user_tz": -60
    },
    "id": "6MlS3ZL0jX3m"
   },
   "outputs": [],
   "source": []
  },
  {
   "cell_type": "code",
   "execution_count": 14,
   "metadata": {
    "executionInfo": {
     "elapsed": 12616,
     "status": "ok",
     "timestamp": 1608662670419,
     "user": {
      "displayName": "ali ali",
      "photoUrl": "https://lh3.googleusercontent.com/a-/AOh14Gid6xt9N7tTtg4a3G2Mvxxcj4meJffeVcQMcLHY=s64",
      "userId": "01405940485992197713"
     },
     "user_tz": -60
    },
    "id": "HjLgbhw0G-kd"
   },
   "outputs": [],
   "source": [
    "# Convert pandas data structure into numpy\n",
    "evidence = evidence.to_numpy()\n",
    "claims = claims.to_numpy()"
   ]
  },
  {
   "cell_type": "code",
   "execution_count": 15,
   "metadata": {
    "executionInfo": {
     "elapsed": 12614,
     "status": "ok",
     "timestamp": 1608662670420,
     "user": {
      "displayName": "ali ali",
      "photoUrl": "https://lh3.googleusercontent.com/a-/AOh14Gid6xt9N7tTtg4a3G2Mvxxcj4meJffeVcQMcLHY=s64",
      "userId": "01405940485992197713"
     },
     "user_tz": -60
    },
    "id": "hvKWPmxjWNK1"
   },
   "outputs": [],
   "source": [
    "test_claims, test_evidence = test_claims.to_numpy(), test_evidence.to_numpy()"
   ]
  },
  {
   "cell_type": "code",
   "execution_count": 16,
   "metadata": {
    "colab": {
     "base_uri": "https://localhost:8080/"
    },
    "executionInfo": {
     "elapsed": 53564,
     "status": "ok",
     "timestamp": 1608662711373,
     "user": {
      "displayName": "ali ali",
      "photoUrl": "https://lh3.googleusercontent.com/a-/AOh14Gid6xt9N7tTtg4a3G2Mvxxcj4meJffeVcQMcLHY=s64",
      "userId": "01405940485992197713"
     },
     "user_tz": -60
    },
    "id": "f4p0NTKxHZ-_",
    "outputId": "ab33a5b1-fa75-4100-b496-95c6e7c74f9d"
   },
   "outputs": [
    {
     "name": "stdout",
     "output_type": "stream",
     "text": [
      "[==================================================] 100.0% 66.0/66.0MB downloaded\n"
     ]
    }
   ],
   "source": [
    "import gensim\n",
    "import gensim.downloader as gloader\n",
    "\n",
    "def load_embedding_model(model_type, embedding_dimension=50):\n",
    "    \"\"\"\n",
    "    Loads a pre-trained word embedding model via gensim library.\n",
    "\n",
    "    :param model_type: name of the word embedding model to load.\n",
    "    :param embedding_dimension: size of the embedding space to consider\n",
    "\n",
    "    :return\n",
    "        - pre-trained word embedding model (gensim KeyedVectors object)\n",
    "    \"\"\"\n",
    "\n",
    "    download_path = \"\"\n",
    "\n",
    "    # Find the correct embedding model name\n",
    "    if model_type.strip().lower() == 'word2vec':\n",
    "        download_path = \"word2vec-google-news-300\"\n",
    "\n",
    "    elif model_type.strip().lower() == 'glove':\n",
    "        download_path = \"glove-wiki-gigaword-{}\".format(embedding_dimension)\n",
    "\n",
    "    else:\n",
    "        raise AttributeError(\"Unsupported embedding model type! Available ones: word2vec, glove\")\n",
    "\n",
    "    # Check download\n",
    "    try:\n",
    "        emb_model = gloader.load(download_path)\n",
    "    except ValueError as e:\n",
    "        print(\"Invalid embedding model name! Check the embedding dimension:\")\n",
    "        print(\"Word2Vec: 300\")\n",
    "        print(\"Glove: 50, 100, 200, 300\")\n",
    "        raise e\n",
    "\n",
    "    return emb_model\n",
    "\n",
    "\n",
    "# Modify these variables as you wish!\n",
    "# Glove -> 50, 100, 200, 300\n",
    "# Word2Vec -> 300\n",
    "embedding_model_type = \"glove\"\n",
    "embedding_dimension = 50\n",
    "\n",
    "embedding_model = load_embedding_model(embedding_model_type, embedding_dimension)\n",
    "        "
   ]
  },
  {
   "cell_type": "markdown",
   "metadata": {
    "id": "cCT7pArajsOL"
   },
   "source": [
    "<h3> Build embedding matrix for both Claims and Evidence </h3>"
   ]
  },
  {
   "cell_type": "code",
   "execution_count": 17,
   "metadata": {
    "executionInfo": {
     "elapsed": 54349,
     "status": "ok",
     "timestamp": 1608662712163,
     "user": {
      "displayName": "ali ali",
      "photoUrl": "https://lh3.googleusercontent.com/a-/AOh14Gid6xt9N7tTtg4a3G2Mvxxcj4meJffeVcQMcLHY=s64",
      "userId": "01405940485992197713"
     },
     "user_tz": -60
    },
    "id": "XSPlsW2EHoAZ"
   },
   "outputs": [],
   "source": [
    "# Compute the embedding matrix\n",
    "# for simplicity, Embedding vector for OOV are assumed to be zero\n",
    "embedding_dim = 50\n",
    "claim_uniq = set(flatten(Token(claims)))\n",
    "claim_embedding_matrix = np.zeros((len(claim_uniq),embedding_dim), dtype=np.float32)\n",
    "oov_terms = []\n",
    "for i,word in enumerate(claim_uniq):\n",
    "  if not word in embedding_model.vocab:\n",
    "    oov_terms.append(word)\n",
    "    claim_embedding_matrix[i] = np.random.rand(embedding_dim)\n",
    "  else:\n",
    "    claim_embedding_matrix[i] = embedding_model[word]\n"
   ]
  },
  {
   "cell_type": "code",
   "execution_count": 18,
   "metadata": {
    "executionInfo": {
     "elapsed": 56294,
     "status": "ok",
     "timestamp": 1608662714109,
     "user": {
      "displayName": "ali ali",
      "photoUrl": "https://lh3.googleusercontent.com/a-/AOh14Gid6xt9N7tTtg4a3G2Mvxxcj4meJffeVcQMcLHY=s64",
      "userId": "01405940485992197713"
     },
     "user_tz": -60
    },
    "id": "DkxGyyzCHrG7"
   },
   "outputs": [],
   "source": [
    "# Compute the embedding matrix\n",
    "# for simplicity, Embedding vector for OOV are assumed to be zero\n",
    "embedding_dim = 50\n",
    "evidence_uniq = set(flatten(Token(evidence)))\n",
    "evidence_embedding_matrix = np.zeros((len(evidence_uniq),embedding_dim), dtype=np.float32)\n",
    "oov_terms = []\n",
    "for i,word in enumerate(evidence_uniq):\n",
    "  if not word in embedding_model.vocab:\n",
    "    oov_terms.append(word)\n",
    "    evidence_embedding_matrix[i] = np.random.rand(embedding_dim)\n",
    "  else:\n",
    "    evidence_embedding_matrix[i] = embedding_model[word]"
   ]
  },
  {
   "cell_type": "markdown",
   "metadata": {
    "id": "9FFBDbrPj3GF"
   },
   "source": [
    "<h3> <ol>Build a **vectorization layer** that transforms strings into indices</ol>\n",
    "<ol> **Embedding layer** takes the integer-encoded vocabulary and looks up the embedding vector <br>for each word-index. These vectors are learned as the model trains</ol></h3>"
   ]
  },
  {
   "cell_type": "code",
   "execution_count": 19,
   "metadata": {
    "executionInfo": {
     "elapsed": 62845,
     "status": "ok",
     "timestamp": 1608662720664,
     "user": {
      "displayName": "ali ali",
      "photoUrl": "https://lh3.googleusercontent.com/a-/AOh14Gid6xt9N7tTtg4a3G2Mvxxcj4meJffeVcQMcLHY=s64",
      "userId": "01405940485992197713"
     },
     "user_tz": -60
    },
    "id": "-jOG86HZIN-n"
   },
   "outputs": [],
   "source": [
    "max_token = 10000\n",
    "claim_max_emb = claim_embedding_matrix.shape[0]\n",
    "# Vectorization layer\n",
    "vectorize_layer_claims = TextVectorization(max_tokens=claim_max_emb, output_sequence_length=192, name='claim_1')\n",
    "vectorize_layer_claims.adapt(claims)\n",
    "vocab = vectorize_layer_claims.get_vocabulary()\n",
    "# Embedding layer\n",
    "claim_embedding_layer = layers.Embedding(claim_embedding_matrix.shape[0],50, \n",
    "                            trainable=False, \n",
    "                            weights = [claim_embedding_matrix], name =\"claim_2\"\n",
    "                             )"
   ]
  },
  {
   "cell_type": "code",
   "execution_count": 20,
   "metadata": {
    "executionInfo": {
     "elapsed": 65602,
     "status": "ok",
     "timestamp": 1608662723424,
     "user": {
      "displayName": "ali ali",
      "photoUrl": "https://lh3.googleusercontent.com/a-/AOh14Gid6xt9N7tTtg4a3G2Mvxxcj4meJffeVcQMcLHY=s64",
      "userId": "01405940485992197713"
     },
     "user_tz": -60
    },
    "id": "q_FKARSvIR_z"
   },
   "outputs": [],
   "source": [
    "#max_token = 10000\n",
    "evidence_max_emb = evidence_embedding_matrix.shape[0]\n",
    "# Vectorization layer\n",
    "vectorize_layer_evidence = TextVectorization(max_tokens=evidence_max_emb , output_sequence_length= 192, name='evidence_1')\n",
    "vectorize_layer_evidence.adapt(evidence)\n",
    "vocab_ev = vectorize_layer_evidence.get_vocabulary()\n",
    "# Embedding Layer\n",
    "evidence_embedding_layer = layers.Embedding(evidence_embedding_matrix.shape[0],50, \n",
    "                            trainable=False, \n",
    "                            weights = [evidence_embedding_matrix], name =\"evidence_2\"\n",
    "                             )"
   ]
  },
  {
   "cell_type": "markdown",
   "metadata": {
    "id": "qPLtGJi8hnDo"
   },
   "source": [
    "<h2> Set batch size, number of epochs and set a callback </h2>"
   ]
  },
  {
   "cell_type": "code",
   "execution_count": 21,
   "metadata": {
    "executionInfo": {
     "elapsed": 65600,
     "status": "ok",
     "timestamp": 1608662723425,
     "user": {
      "displayName": "ali ali",
      "photoUrl": "https://lh3.googleusercontent.com/a-/AOh14Gid6xt9N7tTtg4a3G2Mvxxcj4meJffeVcQMcLHY=s64",
      "userId": "01405940485992197713"
     },
     "user_tz": -60
    },
    "id": "tCHdiIFoIYGZ"
   },
   "outputs": [],
   "source": [
    "batch_size = 64\n",
    "epochs = 150\n",
    "callbacks = tf.keras.callbacks.EarlyStopping(monitor='val_loss', \n",
    "                                             patience=5, restore_best_weights=True)"
   ]
  },
  {
   "cell_type": "markdown",
   "metadata": {
    "id": "kwoYDl-EhdH_"
   },
   "source": [
    "<h1> Define Baseline model </h1>"
   ]
  },
  {
   "cell_type": "code",
   "execution_count": 22,
   "metadata": {
    "executionInfo": {
     "elapsed": 65600,
     "status": "ok",
     "timestamp": 1608662723427,
     "user": {
      "displayName": "ali ali",
      "photoUrl": "https://lh3.googleusercontent.com/a-/AOh14Gid6xt9N7tTtg4a3G2Mvxxcj4meJffeVcQMcLHY=s64",
      "userId": "01405940485992197713"
     },
     "user_tz": -60
    },
    "id": "LFJOqg92IbU7"
   },
   "outputs": [],
   "source": [
    "def baseline_gru_model():\n",
    "  inp_claim = tf.keras.Input(shape=(1,), dtype=tf.string, name='claim_0')\n",
    "\n",
    "  inp_evidence = tf.keras.Input(shape=(1,), dtype=tf.string, name='evidence_0')\n",
    "\n",
    "  x_ev = vectorize_layer_evidence(inp_evidence)\n",
    "  #x_ev = layers.Embedding(max_token, 128,  name='Evidence_Embedding_layer')(x_ev)\n",
    "  x_ev = evidence_embedding_layer(x_ev)\n",
    "  x_ev = layers.Bidirectional(layers.GRU(int(embedding_dim/2), return_sequences=True), name='evidence_3')(x_ev)\n",
    "  x_ev = layers.Bidirectional(layers.GRU(int(embedding_dim/2)), name='evidence_4')(x_ev)\n",
    "  \n",
    "\n",
    "\n",
    "\n",
    "  x_c = vectorize_layer_claims(inp_claim)\n",
    "  #x_c = layers.Embedding(max_token, 128, name='Claim_Embedding_layer')(x_c)\n",
    "  x_c = claim_embedding_layer(x_c)\n",
    "  x_c = layers.Bidirectional(layers.GRU(int(embedding_dim/2), return_sequences=True), name='claim_3')(x_c)\n",
    "  x_c = layers.Bidirectional(layers.GRU(int(embedding_dim/2)), name='claim_4')(x_c)\n",
    "  \n",
    " \n",
    "  \n",
    "\n",
    "  x = layers.Concatenate()([x_c, x_ev])\n",
    "  x = layers.Dense(1024)(x)\n",
    "  x = layers.Dropout(0.5)(x)\n",
    "  x = layers.Dense(1, activation='sigmoid')(x)\n",
    "\n",
    "  model = Model([inp_claim,inp_evidence], x)\n",
    "  #model.summary()\n",
    "  return model"
   ]
  },
  {
   "cell_type": "markdown",
   "metadata": {
    "id": "vfksF-Bph0wz"
   },
   "source": [
    "<h2> Instantiation of the baseline model </h2 "
   ]
  },
  {
   "cell_type": "code",
   "execution_count": 23,
   "metadata": {
    "executionInfo": {
     "elapsed": 67521,
     "status": "ok",
     "timestamp": 1608662725349,
     "user": {
      "displayName": "ali ali",
      "photoUrl": "https://lh3.googleusercontent.com/a-/AOh14Gid6xt9N7tTtg4a3G2Mvxxcj4meJffeVcQMcLHY=s64",
      "userId": "01405940485992197713"
     },
     "user_tz": -60
    },
    "id": "JB4YbUF2IkrA"
   },
   "outputs": [],
   "source": [
    "baseline_model = baseline_gru_model()\n",
    "#baseline_model.summary()"
   ]
  },
  {
   "cell_type": "markdown",
   "metadata": {
    "id": "B7wLGGTSh-2M"
   },
   "source": [
    "<h2> Compile the model </h2>"
   ]
  },
  {
   "cell_type": "code",
   "execution_count": 24,
   "metadata": {
    "executionInfo": {
     "elapsed": 67522,
     "status": "ok",
     "timestamp": 1608662725353,
     "user": {
      "displayName": "ali ali",
      "photoUrl": "https://lh3.googleusercontent.com/a-/AOh14Gid6xt9N7tTtg4a3G2Mvxxcj4meJffeVcQMcLHY=s64",
      "userId": "01405940485992197713"
     },
     "user_tz": -60
    },
    "id": "E6Lu69fTO-cV"
   },
   "outputs": [],
   "source": [
    "baseline_model.compile(loss=tf.keras.losses.BinaryCrossentropy(from_logits=True),\n",
    "              optimizer=tf.keras.optimizers.Adam(),\n",
    "              metrics=['accuracy'])\n",
    "\n"
   ]
  },
  {
   "cell_type": "markdown",
   "metadata": {
    "id": "C_8rwLKHiE7w"
   },
   "source": [
    "<h2> Training the model </h2>"
   ]
  },
  {
   "cell_type": "code",
   "execution_count": 25,
   "metadata": {
    "colab": {
     "base_uri": "https://localhost:8080/"
    },
    "executionInfo": {
     "elapsed": 1503649,
     "status": "ok",
     "timestamp": 1608664161483,
     "user": {
      "displayName": "ali ali",
      "photoUrl": "https://lh3.googleusercontent.com/a-/AOh14Gid6xt9N7tTtg4a3G2Mvxxcj4meJffeVcQMcLHY=s64",
      "userId": "01405940485992197713"
     },
     "user_tz": -60
    },
    "id": "8iTglgxsgzEi",
    "outputId": "ea259dc2-4666-44ca-e03a-53c3536bee19"
   },
   "outputs": [
    {
     "name": "stdout",
     "output_type": "stream",
     "text": [
      "Epoch 1/150\n",
      "1712/1712 [==============================] - 134s 69ms/step - loss: 0.5475 - accuracy: 0.7489 - val_loss: 0.4129 - val_accuracy: 0.8278\n",
      "Epoch 2/150\n",
      "1712/1712 [==============================] - 113s 66ms/step - loss: 0.4713 - accuracy: 0.7970 - val_loss: 0.3953 - val_accuracy: 0.8389\n",
      "Epoch 3/150\n",
      "1712/1712 [==============================] - 109s 64ms/step - loss: 0.4434 - accuracy: 0.8102 - val_loss: 0.3609 - val_accuracy: 0.8530\n",
      "Epoch 4/150\n",
      "1712/1712 [==============================] - 110s 64ms/step - loss: 0.4237 - accuracy: 0.8193 - val_loss: 0.3511 - val_accuracy: 0.8556\n",
      "Epoch 5/150\n",
      "1712/1712 [==============================] - 110s 64ms/step - loss: 0.4097 - accuracy: 0.8255 - val_loss: 0.3489 - val_accuracy: 0.8604\n",
      "Epoch 6/150\n",
      "1712/1712 [==============================] - 113s 66ms/step - loss: 0.3983 - accuracy: 0.8290 - val_loss: 0.3499 - val_accuracy: 0.8577\n",
      "Epoch 7/150\n",
      "1712/1712 [==============================] - 109s 64ms/step - loss: 0.3903 - accuracy: 0.8339 - val_loss: 0.3438 - val_accuracy: 0.8616\n",
      "Epoch 8/150\n",
      "1712/1712 [==============================] - 109s 63ms/step - loss: 0.3839 - accuracy: 0.8347 - val_loss: 0.3389 - val_accuracy: 0.8641\n",
      "Epoch 9/150\n",
      "1712/1712 [==============================] - 106s 62ms/step - loss: 0.3705 - accuracy: 0.8424 - val_loss: 0.3415 - val_accuracy: 0.8617\n",
      "Epoch 10/150\n",
      "1712/1712 [==============================] - 106s 62ms/step - loss: 0.3589 - accuracy: 0.8449 - val_loss: 0.3695 - val_accuracy: 0.8415\n",
      "Epoch 11/150\n",
      "1712/1712 [==============================] - 105s 61ms/step - loss: 0.3523 - accuracy: 0.8490 - val_loss: 0.3513 - val_accuracy: 0.8595\n",
      "Epoch 12/150\n",
      "1712/1712 [==============================] - 105s 61ms/step - loss: 0.3455 - accuracy: 0.8505 - val_loss: 0.3551 - val_accuracy: 0.8553\n",
      "Epoch 13/150\n",
      "1712/1712 [==============================] - 106s 62ms/step - loss: 0.3414 - accuracy: 0.8541 - val_loss: 0.3644 - val_accuracy: 0.8581\n",
      "CPU times: user 26min 10s, sys: 1min 47s, total: 27min 58s\n",
      "Wall time: 23min 56s\n"
     ]
    }
   ],
   "source": [
    "%%time\n",
    "baselinehistory = baseline_model.fit([claims, evidence],train_labels,\n",
    "                    epochs= epochs, \n",
    "                    batch_size= batch_size, \n",
    "                    validation_split=0.1, \n",
    "                    callbacks=[callbacks])"
   ]
  },
  {
   "cell_type": "markdown",
   "metadata": {
    "id": "KXWHCQ5_iOBI"
   },
   "source": [
    "<p> Show plot of train and validation parameters:<br>loss<br>Accuracy<br>val_loss<br>val_acc</p>"
   ]
  },
  {
   "cell_type": "code",
   "execution_count": 26,
   "metadata": {
    "colab": {
     "base_uri": "https://localhost:8080/",
     "height": 504
    },
    "executionInfo": {
     "elapsed": 1504275,
     "status": "ok",
     "timestamp": 1608664162116,
     "user": {
      "displayName": "ali ali",
      "photoUrl": "https://lh3.googleusercontent.com/a-/AOh14Gid6xt9N7tTtg4a3G2Mvxxcj4meJffeVcQMcLHY=s64",
      "userId": "01405940485992197713"
     },
     "user_tz": -60
    },
    "id": "mKKsJjNGI1h0",
    "outputId": "58c77b9e-6460-48d2-fef6-0683e2fe48a5"
   },
   "outputs": [
    {
     "data": {
      "image/png": "[encoded data removed]",
      "text/plain": [
       "<Figure size 1152x576 with 2 Axes>"
      ]
     },
     "metadata": {
      "needs_background": "light",
      "tags": []
     },
     "output_type": "display_data"
    }
   ],
   "source": [
    "plt.figure(figsize=(16,8))\n",
    "plt.subplot(1,2,1)\n",
    "plot_graphs(baselinehistory, 'accuracy')\n",
    "plt.ylim(None,1)\n",
    "plt.subplot(1,2,2)\n",
    "plot_graphs(baselinehistory, 'loss')\n",
    "plt.ylim(0,None)\n",
    "plt.savefig('baseline_model.png')"
   ]
  },
  {
   "cell_type": "markdown",
   "metadata": {
    "id": "By9LzM-khSVL"
   },
   "source": [
    "<h1> Build the extended model </h1>"
   ]
  },
  {
   "cell_type": "code",
   "execution_count": 27,
   "metadata": {
    "executionInfo": {
     "elapsed": 1504273,
     "status": "ok",
     "timestamp": 1608664162117,
     "user": {
      "displayName": "ali ali",
      "photoUrl": "https://lh3.googleusercontent.com/a-/AOh14Gid6xt9N7tTtg4a3G2Mvxxcj4meJffeVcQMcLHY=s64",
      "userId": "01405940485992197713"
     },
     "user_tz": -60
    },
    "id": "9rICs75jI7HU"
   },
   "outputs": [],
   "source": [
    "def Gru_model_extension():\n",
    "  inp_claim = tf.keras.Input(shape=(1,), dtype=tf.string, name='claim_0')\n",
    "\n",
    "  inp_evidence = tf.keras.Input(shape=(1,), dtype=tf.string, name='evidence_0')\n",
    "\n",
    "  \n",
    "\n",
    "  x_ev = vectorize_layer_evidence(inp_evidence)\n",
    "  #x_ev = layers.Embedding(max_token, 128,  name='Evidence_Embedding_layer')(x_ev)\n",
    "  x_ev = evidence_embedding_layer(x_ev)\n",
    "  x_ev = layers.Bidirectional(layers.GRU(int(embedding_dim/2), return_sequences=True), name='evidence_3')(x_ev)\n",
    "  x_ev = layers.Bidirectional(layers.GRU(int(embedding_dim/2)), name='evidence_4')(x_ev)\n",
    "  \n",
    "\n",
    "\n",
    "  x_c = vectorize_layer_claims(inp_claim)\n",
    "  #x_c = layers.Embedding(max_token, 128, name='Claim_Embedding_layer')(x_c)\n",
    "  x_c = claim_embedding_layer(x_c)\n",
    "  x_c = layers.Bidirectional(layers.GRU(int(embedding_dim/2), return_sequences=True), name='claim_3')(x_c)\n",
    "  x_c = layers.Bidirectional(layers.GRU(int(embedding_dim/2)), name='claim_4')(x_c)\n",
    "\n",
    "\n",
    "  sim_layer = layers.Dot(axes=1)([x_c, x_ev])\n",
    "  n_ev = tf.norm(x_ev)\n",
    "  n_c = tf.norm(x_c)\n",
    "  sim_layer = tf.divide(sim_layer, tf.multiply(n_c, n_ev))\n",
    "  \n",
    " \n",
    "  \n",
    "\n",
    "  x = layers.Concatenate()([x_c, x_ev, sim_layer])\n",
    "  x = layers.Dense(1024)(x)\n",
    "  x = layers.Dropout(0.5)(x)\n",
    "  x = layers.Dense(1, activation='sigmoid')(x)\n",
    "\n",
    "  model = Model([inp_claim,inp_evidence], x)\n",
    "  return model"
   ]
  },
  {
   "cell_type": "code",
   "execution_count": 28,
   "metadata": {
    "executionInfo": {
     "elapsed": 1505663,
     "status": "ok",
     "timestamp": 1608664163510,
     "user": {
      "displayName": "ali ali",
      "photoUrl": "https://lh3.googleusercontent.com/a-/AOh14Gid6xt9N7tTtg4a3G2Mvxxcj4meJffeVcQMcLHY=s64",
      "userId": "01405940485992197713"
     },
     "user_tz": -60
    },
    "id": "WiP-OL7KJCMR"
   },
   "outputs": [],
   "source": [
    "extension_gru_model = Gru_model_extension()\n",
    "#extension_gru_model.summary()"
   ]
  },
  {
   "cell_type": "code",
   "execution_count": 29,
   "metadata": {
    "executionInfo": {
     "elapsed": 1505665,
     "status": "ok",
     "timestamp": 1608664163513,
     "user": {
      "displayName": "ali ali",
      "photoUrl": "https://lh3.googleusercontent.com/a-/AOh14Gid6xt9N7tTtg4a3G2Mvxxcj4meJffeVcQMcLHY=s64",
      "userId": "01405940485992197713"
     },
     "user_tz": -60
    },
    "id": "VLO7fPxTXM5e"
   },
   "outputs": [],
   "source": [
    "#extension_gru_model.summary()"
   ]
  },
  {
   "cell_type": "code",
   "execution_count": 30,
   "metadata": {
    "executionInfo": {
     "elapsed": 1505663,
     "status": "ok",
     "timestamp": 1608664163515,
     "user": {
      "displayName": "ali ali",
      "photoUrl": "https://lh3.googleusercontent.com/a-/AOh14Gid6xt9N7tTtg4a3G2Mvxxcj4meJffeVcQMcLHY=s64",
      "userId": "01405940485992197713"
     },
     "user_tz": -60
    },
    "id": "-mfEprIFJGoX"
   },
   "outputs": [],
   "source": [
    "extension_gru_model.compile(loss=tf.keras.losses.BinaryCrossentropy(from_logits=True),\n",
    "              optimizer=tf.keras.optimizers.Adam(),\n",
    "              metrics=['accuracy'])"
   ]
  },
  {
   "cell_type": "code",
   "execution_count": 31,
   "metadata": {
    "colab": {
     "base_uri": "https://localhost:8080/"
    },
    "executionInfo": {
     "elapsed": 3084588,
     "status": "ok",
     "timestamp": 1608665742444,
     "user": {
      "displayName": "ali ali",
      "photoUrl": "https://lh3.googleusercontent.com/a-/AOh14Gid6xt9N7tTtg4a3G2Mvxxcj4meJffeVcQMcLHY=s64",
      "userId": "01405940485992197713"
     },
     "user_tz": -60
    },
    "id": "AHzdJiIfJJmn",
    "outputId": "612f96bd-23a7-441f-cfcd-a3aa64920fd7"
   },
   "outputs": [
    {
     "name": "stdout",
     "output_type": "stream",
     "text": [
      "Epoch 1/150\n",
      "1712/1712 [==============================] - 116s 63ms/step - loss: 0.5428 - accuracy: 0.7542 - val_loss: 0.4196 - val_accuracy: 0.8281\n",
      "Epoch 2/150\n",
      "1712/1712 [==============================] - 105s 62ms/step - loss: 0.4639 - accuracy: 0.8018 - val_loss: 0.3861 - val_accuracy: 0.8475\n",
      "Epoch 3/150\n",
      "1712/1712 [==============================] - 104s 61ms/step - loss: 0.4424 - accuracy: 0.8115 - val_loss: 0.3634 - val_accuracy: 0.8537\n",
      "Epoch 4/150\n",
      "1712/1712 [==============================] - 105s 61ms/step - loss: 0.4259 - accuracy: 0.8190 - val_loss: 0.3626 - val_accuracy: 0.8551\n",
      "Epoch 5/150\n",
      "1712/1712 [==============================] - 105s 62ms/step - loss: 0.4094 - accuracy: 0.8252 - val_loss: 0.3505 - val_accuracy: 0.8592\n",
      "Epoch 6/150\n",
      "1712/1712 [==============================] - 104s 61ms/step - loss: 0.3990 - accuracy: 0.8286 - val_loss: 0.3504 - val_accuracy: 0.8569\n",
      "Epoch 7/150\n",
      "1712/1712 [==============================] - 104s 61ms/step - loss: 0.3907 - accuracy: 0.8309 - val_loss: 0.3837 - val_accuracy: 0.8349\n",
      "Epoch 8/150\n",
      "1712/1712 [==============================] - 105s 61ms/step - loss: 0.3818 - accuracy: 0.8359 - val_loss: 0.3455 - val_accuracy: 0.8578\n",
      "Epoch 9/150\n",
      "1712/1712 [==============================] - 105s 61ms/step - loss: 0.3685 - accuracy: 0.8422 - val_loss: 0.3476 - val_accuracy: 0.8625\n",
      "Epoch 10/150\n",
      "1712/1712 [==============================] - 104s 61ms/step - loss: 0.3660 - accuracy: 0.8409 - val_loss: 0.3454 - val_accuracy: 0.8595\n",
      "Epoch 11/150\n",
      "1712/1712 [==============================] - 104s 61ms/step - loss: 0.3558 - accuracy: 0.8462 - val_loss: 0.3536 - val_accuracy: 0.8562\n",
      "Epoch 12/150\n",
      "1712/1712 [==============================] - 103s 60ms/step - loss: 0.3511 - accuracy: 0.8466 - val_loss: 0.3542 - val_accuracy: 0.8553\n",
      "Epoch 13/150\n",
      "1712/1712 [==============================] - 104s 61ms/step - loss: 0.3417 - accuracy: 0.8517 - val_loss: 0.3698 - val_accuracy: 0.8451\n",
      "Epoch 14/150\n",
      "1712/1712 [==============================] - 104s 61ms/step - loss: 0.3344 - accuracy: 0.8536 - val_loss: 0.3675 - val_accuracy: 0.8498\n",
      "Epoch 15/150\n",
      "1712/1712 [==============================] - 105s 61ms/step - loss: 0.3283 - accuracy: 0.8563 - val_loss: 0.3764 - val_accuracy: 0.8458\n",
      "CPU times: user 28min 56s, sys: 1min 59s, total: 30min 55s\n",
      "Wall time: 26min 18s\n"
     ]
    }
   ],
   "source": [
    "%%time\n",
    "extension_gru_history = extension_gru_model.fit([claims, evidence],train_labels,\n",
    "                    epochs= epochs, \n",
    "                    batch_size= batch_size, \n",
    "                    validation_split=0.1, \n",
    "                    callbacks=[callbacks])"
   ]
  },
  {
   "cell_type": "code",
   "execution_count": 32,
   "metadata": {
    "colab": {
     "base_uri": "https://localhost:8080/",
     "height": 504
    },
    "executionInfo": {
     "elapsed": 3085231,
     "status": "ok",
     "timestamp": 1608665743093,
     "user": {
      "displayName": "ali ali",
      "photoUrl": "https://lh3.googleusercontent.com/a-/AOh14Gid6xt9N7tTtg4a3G2Mvxxcj4meJffeVcQMcLHY=s64",
      "userId": "01405940485992197713"
     },
     "user_tz": -60
    },
    "id": "S0ChU3oOJL_v",
    "outputId": "386aa82d-2542-4d11-8976-0af27afb84c5"
   },
   "outputs": [
    {
     "data": {
      "image/png": "[encoded data removed]",
      "text/plain": [
       "<Figure size 1152x576 with 2 Axes>"
      ]
     },
     "metadata": {
      "needs_background": "light",
      "tags": []
     },
     "output_type": "display_data"
    }
   ],
   "source": [
    "plt.figure(figsize=(16,8))\n",
    "plt.subplot(1,2,1)\n",
    "plot_graphs(extension_gru_history, 'accuracy')\n",
    "plt.ylim(None,1)\n",
    "plt.subplot(1,2,2)\n",
    "plot_graphs(extension_gru_history, 'loss')\n",
    "plt.ylim(0,None)\n",
    "plt.savefig ('extended_model.png')"
   ]
  },
  {
   "cell_type": "markdown",
   "metadata": {
    "id": "vpZZTznDm32e"
   },
   "source": [
    "<h4> Build pair (claim, evidence) checking but and then pick the best for majority voting evaluation </h4>"
   ]
  },
  {
   "cell_type": "code",
   "execution_count": 33,
   "metadata": {
    "colab": {
     "base_uri": "https://localhost:8080/"
    },
    "executionInfo": {
     "elapsed": 3100195,
     "status": "ok",
     "timestamp": 1608665758061,
     "user": {
      "displayName": "ali ali",
      "photoUrl": "https://lh3.googleusercontent.com/a-/AOh14Gid6xt9N7tTtg4a3G2Mvxxcj4meJffeVcQMcLHY=s64",
      "userId": "01405940485992197713"
     },
     "user_tz": -60
    },
    "id": "DWgLJi-WJkus",
    "outputId": "7b93bcb9-be9a-45be-c6b0-efd56f3e3a46"
   },
   "outputs": [
    {
     "name": "stdout",
     "output_type": "stream",
     "text": [
      "baseline model...\n",
      "              precision    recall  f1-score   support\n",
      "\n",
      "           0       0.88      0.39      0.54      3583\n",
      "           1       0.61      0.95      0.74      3606\n",
      "\n",
      "    accuracy                           0.67      7189\n",
      "   macro avg       0.74      0.67      0.64      7189\n",
      "weighted avg       0.74      0.67      0.64      7189\n",
      "\n",
      "f1 score for baseline model is 0.6405\n",
      "====================================================================================================\n",
      "Extension Model...\n",
      "              precision    recall  f1-score   support\n",
      "\n",
      "           0       0.86      0.40      0.55      3583\n",
      "           1       0.61      0.94      0.74      3606\n",
      "\n",
      "    accuracy                           0.67      7189\n",
      "   macro avg       0.74      0.67      0.64      7189\n",
      "weighted avg       0.74      0.67      0.64      7189\n",
      "\n",
      "f1 score for Extension Model is 0.6426\n",
      "====================================================================================================\n",
      "====================================================================================================\n",
      "The best model is the Extension Model with f1 score: 0.6426\n"
     ]
    }
   ],
   "source": [
    "f1_score_macro = []\n",
    "pred = np.vectorize(lambda x: 1 if x > 0.5 else 0)\n",
    "best_model = ''\n",
    "best_f1_score = 0.\n",
    "names = [\"baseline model\", \"Extension Model\"]\n",
    "list_models = [baseline_model, extension_gru_model]\n",
    "\n",
    "for i, model in enumerate(list_models):\n",
    "  y_pred = model.predict([test_claims, test_evidence])\n",
    "  y_pred = pred(y_pred)\n",
    "  f1 =f1_score(test_labels, y_pred, average='macro')\n",
    "  print(f\"{names[i]}...\")\n",
    "  print(classification_report(test_labels, y_pred))\n",
    "  if best_f1_score < f1:\n",
    "    best_f1_score = f1\n",
    "    best_model = model\n",
    "    best_model_name = names[i]\n",
    "  print(f\"f1 score for {names[i]} is {f1:.4f}\")\n",
    "  f1_score_macro.append(f1)\n",
    "  print(\"=\"*100)\n",
    "\n",
    "print(\"=\"*100)\n",
    "print(f\"The best model is the {best_model_name} with f1 score: {best_f1_score:.4f}\")  "
   ]
  },
  {
   "cell_type": "markdown",
   "metadata": {
    "id": "P7ZMldVGlvbk"
   },
   "source": [
    "<h4> Build Majority voting algos </h4>"
   ]
  },
  {
   "cell_type": "code",
   "execution_count": 34,
   "metadata": {
    "executionInfo": {
     "elapsed": 3100195,
     "status": "ok",
     "timestamp": 1608665758064,
     "user": {
      "displayName": "ali ali",
      "photoUrl": "https://lh3.googleusercontent.com/a-/AOh14Gid6xt9N7tTtg4a3G2Mvxxcj4meJffeVcQMcLHY=s64",
      "userId": "01405940485992197713"
     },
     "user_tz": -60
    },
    "id": "CTVy58H7pKsD"
   },
   "outputs": [],
   "source": [
    "# vectorization function which transforms the prediction outputs in 0 and 1\n",
    "f = np.vectorize(lambda x: 1 if x > 0.5 else 0)\n",
    "\n",
    "def generate_labels(model, c, evidence):\n",
    "  d = f(model.predict([np.full(len(evidence), c, dtype=np.object), evidence]).flatten())\n",
    "  return 1 if np.count_nonzero(d==0) < np.count_nonzero(d==1) else 0"
   ]
  },
  {
   "cell_type": "markdown",
   "metadata": {
    "id": "Y6OoJmojmUfB"
   },
   "source": [
    "<p> For the sake of computational cost, we have decided to use 10 set of evidence</p>"
   ]
  },
  {
   "cell_type": "code",
   "execution_count": null,
   "metadata": {
    "colab": {
     "base_uri": "https://localhost:8080/"
    },
    "id": "2jzbvKHuYsXG",
    "outputId": "8750e1f2-9a77-40f5-91b9-53f1411173e2"
   },
   "outputs": [
    {
     "name": "stdout",
     "output_type": "stream",
     "text": [
      "0-th True-claim: S  ---   Predicted-claim: S\n",
      "1000-th True-claim: R  ---   Predicted-claim: R\n"
     ]
    }
   ],
   "source": [
    "%%time\n",
    "claims_checking = []\n",
    "\n",
    "for i,c in enumerate(test_claims):\n",
    "  lab = generate_labels(best_model, str(c), test_evidence[:100])\n",
    "  claims_checking.append(lab)\n",
    "\n",
    "  if i%1000==0:\n",
    "    print(f\"{i}-th True-claim: {'S' if test_labels[i]==1 else 'R'}  ---   Predicted-claim: {'S' if lab==1 else 'R'}\")\n",
    "print('Completed...')\n",
    "print(\"=\"*100)\n",
    "print(classification_report(np.array(claims_checking), test_labels))"
   ]
  },
  {
   "cell_type": "markdown",
   "metadata": {
    "id": "RbH_8errW5MH"
   },
   "source": [
    "# Classification dataset\n",
    "\n",
    "At this point, you should have a reay-to-go dataset! Note that the dataset format changed as well! In particular, we split the evidence set associated to each claim, in order to build (claim, evidence) pairs. The classification label is propagated as well.\n",
    "\n",
    "We'll motivate this decision in the next section!\n",
    "\n",
    "Just for clarity, here's an example of the pre-processed dataset:\n",
    "\n",
    "---\n",
    "\n",
    "**Claim**: \"Wentworth Miller is yet to make his screenwriting debut.\"\n",
    "\n",
    "**Evidence**: \"2\tHe made his screenwriting debut with the 2013 thriller film Stoker .\tStoker\tStoker (film)\"\n",
    "\n",
    "**Label**: Refutes\n",
    "\n",
    "---\n",
    "\n",
    "**Note**: The dataset requires some text cleaning as you may notice!\n"
   ]
  },
  {
   "cell_type": "markdown",
   "metadata": {
    "id": "gH8hIK21Xrl0"
   },
   "source": [
    "# Problem formulation\n",
    "\n",
    "As mentioned at the beginning of the assignment, we are going to formulate the fact checking problem as a binary classification task.\n",
    "\n",
    "In particular, each dataset sample is comprised of:\n",
    "\n",
    "*     A claim to verify\n",
    "*     A set of semantically related statements (evidence set)\n",
    "*     Fact checking label: either evidences support or refute the claim.\n",
    "\n",
    "Handling the evidence set from the point of view of neural models may imply some additional complexity: if the evidence set is comprised of several sentences we might incur in memory problems.\n",
    "\n",
    "To this end, we further simplify the problem by building (claim, evidence) pairs. The fact checking label is propagated as well.\n",
    "\n",
    "Example:\n",
    "\n",
    "     Claim: c1 \n",
    "     Evidence set: [e1, e2, e3]\n",
    "     Label: S (support)\n",
    "\n",
    "--->\n",
    "\n",
    "    (c1, e1, S),\n",
    "    (c1, e2, S),\n",
    "    (c1, e3, S)"
   ]
  },
  {
   "cell_type": "markdown",
   "metadata": {
    "id": "E46flIz_zQy-"
   },
   "source": [
    "## Schema\n",
    "\n",
    "The overall binary classification problem is summed up by the following (simplified) schema\n",
    "\n",
    "![](https://drive.google.com/uc?export=view&id=1Wm_YBnFwgJtxcWEBpPbTBEVkpKaL08Jp)\n",
    "\n",
    "Don't worry too much about the **Encoding** block for now. We'll give you some simple guidelines about its definition. For the moment, stick to the binary classification task definition where, in this case, we have 2 inputs: the claim to verify and one of its associated evidences."
   ]
  },
  {
   "cell_type": "markdown",
   "metadata": {
    "id": "LsiTV-NVdgsF"
   },
   "source": [
    "# Architecture Guidelines\n",
    "\n",
    "There are many neural architectures that follow the above schema. To avoid phenomena like the writer's block, in this section we are going to give you some implementation guidelines.\n",
    "\n",
    "In particular, we would like you to test some implementations so that you explore basic approaches (neural baselines) and use them as building blocks for possible extensions."
   ]
  },
  {
   "cell_type": "markdown",
   "metadata": {
    "id": "ZJBQm47fe7iE"
   },
   "source": [
    "## Handling multiple inputs\n",
    "\n",
    "The first thing to notice is that we are in a multi-input scenario. In particular, each sample is comprised of a fact and its asssociated evidence statement.\n",
    "\n",
    "Each of these input is encoded as a sequence of tokens. In particular, we will have the following input matrices:\n",
    "\n",
    "*    Claim: [batch_size, max_tokens]\n",
    "*    Evidence: [batch_size, max_tokens]\n",
    "\n",
    "Moreover, after the embedding layer, we'll have:\n",
    "\n",
    "*    Claim: [batch_size, max_tokens, embedding_dim]\n",
    "*    Evidence: [batch_size, max_tokens, embedding_dim]\n",
    "\n",
    "But, we would like to have a 2D input to our classifier, since we have to give an answer at pair level. Therefore, for each sample, we would expect the following input shape to our classification block:\n",
    "\n",
    "*   Classification input shape: [batch_size, dim]\n",
    "\n",
    "**How to do that?**\n",
    "\n",
    "We inherently need to reduce the token sequence to a single representation. This operation is formally known as **sentence embedding**. Indeed, we are trying to compress the information of a whole sequence into a single embedding vector.\n",
    "\n",
    "Here are some simple solutions that we ask you to try out:\n",
    "\n",
    "*   Encode token sequences via a RNN and take the last state as the sentence embedding.\n",
    "\n",
    "*   Encode token sequences via a RNN and average all the output states.\n",
    "\n",
    "*   Encode token sequences via a simple MLP layer. In particular, if your input is a [batch_size, max_tokens, embedding_dim] tensor, the matrix multiplication works on the **max_tokens** dimension, resulting in a [batch_size, embedding_dim] 2D matrix.\n",
    "\n",
    "*   Compute the sentence embedding as the mean of its token embeddings (**bag of vectors**)."
   ]
  },
  {
   "cell_type": "markdown",
   "metadata": {
    "id": "Gypl5z5ElJo1"
   },
   "source": [
    "## Merging multi-inputs\n",
    "\n",
    "At this point, we have to think about **how** we should merge evidence and claim sentence embeddings.\n",
    "\n",
    "For simplicity, we stick to simple merging strategies:\n",
    "\n",
    "*     **Concatenation**: define the classification input as the concatenation of evidence and claim sentence embeddings\n",
    "\n",
    "*     **Sum**: define the classification input as the sum of evidence and claim sentence embeddings\n",
    "\n",
    "*     **Mean**: define the classification input as the mean of evidence and claim sentence embeddings\n",
    "\n",
    "For clarity, if we the sentence embedding of a single input has shape [batch_size, embedding_dim], then the classification input has shape:\n",
    "\n",
    "*     **Concatenation**: [batch_size, 2 * embedding_dim]\n",
    "\n",
    "*     **Sum**: [batch_size, embedding_dim]\n",
    "\n",
    "*     **Mean**: [batch_size, embedding_dim]"
   ]
  },
  {
   "cell_type": "markdown",
   "metadata": {
    "id": "IhVg9ZLymOUc"
   },
   "source": [
    "# A simple extension\n",
    "\n",
    "Lastly, we ask you to modify previously defined neural architectures by adding an additional feature to the classification input.\n",
    "\n",
    "We would like to see if some similarity information between the claim to verify and one of its associated evidence might be useful to the classification.\n",
    "\n",
    "Compute the cosine similarity metric between the two sentence embeddings and concatenate the result to the classification input.\n",
    "\n",
    "For clarity, since the cosine similarity of two vectors outputs a scalar value, the classification input shape is modified as follows:\n",
    "\n",
    "*     **Concatenation**: [batch_size, 2 * embedding_dim + 1]\n",
    "\n",
    "*     **Sum**: [batch_size, embedding_dim + 1]\n",
    "\n",
    "*     **Mean**: [batch_size, embedding_dim + 1]\n",
    "\n"
   ]
  },
  {
   "cell_type": "markdown",
   "metadata": {
    "id": "Nd74ULgpnJrc"
   },
   "source": [
    "# Performance evaluation\n",
    "\n",
    "Due to our simplifications, obtained results are not directly compatible with a traditional fact checking method that considers the evidence set as a whole.\n",
    "\n",
    "Thus, we need to consider two types of evaluations.\n",
    "\n",
    "**Multi-input classification evaluation**\n",
    "\n",
    "This type of evaluation is the easiest and concerns computing evaluation metrics, such as accuracy, f1-score, recall and precision, of our pre-processed dataset.\n",
    "\n",
    "In other words, we assess the performance of chosen classifiers.\n",
    "\n",
    "**Claim verification evaluation**\n",
    "\n",
    "However, if we want to give an answer concerning the claim itself, we need to consider the whole evidence set. \n",
    "\n",
    "Intuitively, for a given claim, we consider all its corresponding (claim, evidence) pairs and their corresponding classification outputs. \n",
    "\n",
    "At this point, all we need to do is to compute the final predicted claim label via majority voting.\n",
    "\n",
    "Example:\n",
    "\n",
    "    Claim: c1\n",
    "    Evidence set: e1, e2, e3\n",
    "    True label: S\n",
    "\n",
    "    Pair outputs:\n",
    "    (c1, e1) -> S (supports)\n",
    "    (c1, e2) -> S (supports)\n",
    "    (c1, e3) -> R (refutes)\n",
    "\n",
    "    Majority voting:\n",
    "    S -> 2 votes\n",
    "    R -> 1 vote\n",
    "\n",
    "    Final label:\n",
    "    c1 -> S\n",
    "\n",
    "Lastly, we have to compute classification metrics just like before."
   ]
  },
  {
   "cell_type": "markdown",
   "metadata": {
    "id": "W4LJ2yPxsUOV"
   },
   "source": [
    "# Tips and Extras"
   ]
  },
  {
   "cell_type": "markdown",
   "metadata": {
    "id": "Uf80UVRNrXve"
   },
   "source": [
    "## Extensions are welcome!\n",
    "\n",
    "Is this task too easy for you? Are you curious to try out things you have seen during lectures (e.g. attention)? Feel free to try everything you want!\n",
    "\n",
    "Don't forget to try neural baselines first!"
   ]
  },
  {
   "cell_type": "markdown",
   "metadata": {
    "id": "COXeCXdYsBEf"
   },
   "source": [
    "## Comments and documentation\n",
    "\n",
    "Remember to properly comment your code (it is not necessary to comment each single line) and don't forget to describe your work!"
   ]
  },
  {
   "cell_type": "markdown",
   "metadata": {
    "id": "Ejv6SDE8xc4_"
   },
   "source": [
    "## Organization\n",
    "\n",
    "We suggest you to divide your work into sections. This allows you to build clean and modular code, as well as easy to read and to debug.\n",
    "\n",
    "A possible schema:\n",
    "\n",
    "*   Dataset pre-processing\n",
    "*   Dataset conversion\n",
    "*   Model definition\n",
    "*   Training\n",
    "*   Evaluation\n",
    "*   Comments/Summary"
   ]
  },
  {
   "cell_type": "markdown",
   "metadata": {
    "id": "9DR70uh7pabo"
   },
   "source": [
    "# Contact\n",
    "\n",
    "For any doubt, question, issue or help, you can always contact us at the following email addresses:\n",
    "\n",
    "Teaching Assistants:\n",
    "\n",
    "* Andrea Galassi -> a.galassi@unibo.it\n",
    "* Federico Ruggeri -> federico.ruggeri6@unibo.it\n",
    "\n",
    "Professor:\n",
    "\n",
    "* Paolo Torroni -> p.torroni@unibo.it\n",
    "\n",
    "Don't forget that your feedback is very important! Your suggestions help us improving course material."
   ]
  },
  {
   "cell_type": "markdown",
   "metadata": {
    "id": "Jc0gNWU2pgKQ"
   },
   "source": [
    "# FAQ\n",
    "\n",
    "---\n",
    "\n",
    "**Q: Can I do something text pre-processing?**\n",
    "\n",
    "**A:** You have to! If you check text data, the majority of sentences need some cleaning.\n",
    "\n",
    "---\n",
    "\n",
    "**Q: I'm struggling with the implementation. Can you help me?**\n",
    "\n",
    "**A:** Yes sure! Write us an email about your issue. If you are looking for a particular type of operation, you can easily check the documentation of the deep learning framework you are using (google is your friend).\n",
    "\n",
    "---\n",
    "\n",
    "**Q: Can I try other encoding strategies or neural architectures?**\n",
    "\n",
    "**A:** Absolutely! Remember to try out recommended neural baselines first and only then proceed with your extensions.\n",
    "\n",
    "---"
   ]
  }
 ],
 "metadata": {
  "accelerator": "GPU",
  "colab": {
   "collapsed_sections": [],
   "name": "Copie de Assignment_4.ipynb",
   "provenance": [
    {
     "file_id": "1mRYM8oWcvktbmulF6F4gjF0YvYRH9N8m",
     "timestamp": 1608574332367
    }
   ],
   "toc_visible": true
  },
  "kernelspec": {
   "display_name": "python3_6",
   "language": "python",
   "name": "virtual_env"
  },
  "language_info": {
   "codemirror_mode": {
    "name": "ipython",
    "version": 3
   },
   "file_extension": ".py",
   "mimetype": "text/x-python",
   "name": "python",
   "nbconvert_exporter": "python",
   "pygments_lexer": "ipython3",
   "version": "3.6.12"
  }
 },
 "nbformat": 4,
 "nbformat_minor": 1
}
